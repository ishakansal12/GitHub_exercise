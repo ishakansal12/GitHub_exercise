{
 "cells": [
  {
   "cell_type": "markdown",
   "id": "3b379647-e62e-4d8e-bcb9-23555ef43705",
   "metadata": {},
   "source": [
    "# DS4200 Homework 1\n",
    "\n",
    "Due: Friday Jan 24th @ 11:59 PM EST\n",
    "\n",
    "### Submission Instructions\n",
    "Submit this `ipynb` file included with the coding results to Gradescope (this can also be done via the assignment on Canvas).  To ensure that your submitted files represent your latest code, make sure to give a fresh `Kernel > Restart & Run All` just before uploading the files to gradescope.\n",
    "\n",
    "### Tips for success\n",
    "- Start early\n",
    "- Make use of Piazza\n",
    "- Make use of Office hour\n",
    "- Remember to use cells and headings to make the notebook easy to read (if a grader cannot find the answer to a problem, you will receive no points for it)\n",
    "- Under no circumstances may one student view or share their ungraded homework or quiz with another student [(see also)](http://www.northeastern.edu/osccr/academic-integrity), though you are welcome to **talk about** (not show each other) the problems."
   ]
  },
  {
   "cell_type": "markdown",
   "id": "320fbc2a-852d-4fcf-99e5-10979eee1ec4",
   "metadata": {},
   "source": [
    "### Part 1 - Good or bad (25 points)"
   ]
  },
  {
   "cell_type": "markdown",
   "id": "1d8c7c65-31d1-4b54-a8f0-03ba29e576dc",
   "metadata": {},
   "source": [
    "For the following figures extracted from online sources. Write 2 or 3 sentences for each to argue whether it is a good or bad example of visualization. If it is a bad example, which design rules of thumbs or graphical integrity it may violated (if any) and how to re-design into a better one. \n",
    "\n",
    "##### Question 1 (5 pts)\n",
    "\n",
    "The figure shows the numbers of female and male passengers on the Titanic traveling in 1st, 2nd, and 3rd class, shown as a 3D stacked bar plot. \n",
    "\n",
    "<div style=\"text-align: center;\">\n",
    "<img src=\"https://i.ibb.co/njznJtt/hw1-1.png\" alt=\"hw1-1\" border=\"0\" width = 300>\n",
    "</div>"
   ]
  },
  {
   "cell_type": "markdown",
   "id": "d152606e-aef8-4fec-9b0a-426c64576b8a",
   "metadata": {},
   "source": [
    "This is not a good example of visualization. There is lie factor present in this graph- all the bars appear shorter than they actually are because of the 3D factor, but this is not accurate to the data itself. The 1st-class bar appears to be less than 300 people, but it is actually 322 people according to the data set, the 2nd-class bar appears to be around 210 passengers whereas it is actually 279, and the 3rd-class bar appears to be much larger in comparison to the other two classes because of this visual manipulation."
   ]
  },
  {
   "cell_type": "markdown",
   "id": "c2c29b76-54fc-4a62-a6e0-cf707c5bc056",
   "metadata": {},
   "source": [
    "##### Question 2 (5 pts)\n",
    "\n",
    "The figure shows the dollars of billions in sales for large fast food company. It also tries to compare the sales number with the GDP of Afghanistan in the same year. \n",
    "\n",
    "<div style=\"text-align: center;\">\n",
    "<img src=\"https://i.ibb.co/fSthBTJ/hw1-2.jpg\" alt=\"hw1-2\" border=\"0\" border=\"0\" width = 400>\n",
    "</div>"
   ]
  },
  {
   "cell_type": "markdown",
   "id": "8335f490-f6fa-4f2b-8cff-9aa48fa5bdce",
   "metadata": {},
   "source": [
    "This graph is not a good visualization. The x- and y-axes are not labeled properly or clearly, misleading the reader. Adding onto this, the width of each company is not the same, which alludes their sales to be larger/ smaller than they are; McDonald's has the largest width in symbol, whereas Starbucks has the smallest, which confuses the viewer and makes it seem McDonald's sales are better than Starbucks on a much larger scale than they actually are. Lastly, the GDP of Afghanistan being on here is not relevant, and it is hiding behind Burger King and McDonalds, which is erasure of its data. "
   ]
  },
  {
   "cell_type": "markdown",
   "id": "62cb73f9-c037-41c7-b4b1-777b816cca4e",
   "metadata": {},
   "source": [
    "##### Question 3 (5 pts)\n",
    "\n",
    "The figure is about the change of race proportions in the US from 1960 to 2060(estimated). \n",
    "\n",
    "<div style=\"text-align: center;\">\n",
    "<img src=\"https://i.ibb.co/5hf0hV6/hw1-3.png\" alt=\"hw1-3\" border=\"0\" width = 300>\n",
    "</div>"
   ]
  },
  {
   "cell_type": "markdown",
   "id": "253bce64-cba5-43a2-b23f-348c22bf70cf",
   "metadata": {},
   "source": [
    "This is not a good example of a graph. While there are statistics present, the color grading of the graph is not proportional to each other because the map of the United States is not a uniform figure. Therefore, the information on here looks much more skewed than it actually is. It's also misleading, because it leads people to believe that people of certain races only live in the areas of the United States that are shaded in with that color, which is absolutely not true; ie, Hispanic people live elsewhere in the United States than just the northern border. Also, the change throughout the years is not properly represented here, so it is an unnecessary piece of information."
   ]
  },
  {
   "cell_type": "markdown",
   "id": "8d7e6d57-718f-4574-a80f-428e0cbb3ef1",
   "metadata": {},
   "source": [
    "##### Question 4 (5 pts)\n",
    "\n",
    "This figure shows the company's 2019 sale by regions and categories of the products. The color indicates for different regions. \n",
    "\n",
    "<div style=\"text-align: center;\">\n",
    "<img src=\"https://i.ibb.co/tJKX7Mt/hw1-4.png\" alt=\"hw1-4\" border=\"0\" width = 400>\n",
    "</div>"
   ]
  },
  {
   "cell_type": "markdown",
   "id": "2a1c2177-8402-4751-b586-3c9ace4c7e2b",
   "metadata": {},
   "source": [
    "This is a good example of visualization. The x- and y-axes are both to scale, the numbers represent the size of the bars, the colors represent the regions clearly for the viewer to comprehend, and the point is expressed clearly and effortlessly. The labels are all accurate and clear to read. "
   ]
  },
  {
   "cell_type": "markdown",
   "id": "ab7ba5b6-5ab0-4113-91e4-810ab8809568",
   "metadata": {},
   "source": [
    "##### Question 5 (5 pts)\n",
    "\n",
    "<div style=\"text-align: center;\">\n",
    "<img src=\"https://i.ibb.co/7CSkGx4/hw1-5.png\" alt=\"hw1-5\" border=\"0\" width = 300>\n",
    "</div>"
   ]
  },
  {
   "cell_type": "raw",
   "id": "5c401828",
   "metadata": {},
   "source": [
    "This is not a good example of visualization. There are way too many labels, all of which are messy and hard to read. The colors are confusing as well, and it is unclear what the pie chart is trying to even display. This is also not the right kind of chart to use to display the intended information; a pie chart is meant for proportions of a whole, not to compare individual data numbers. Also, does the total even equal 100% here? What is the total here and what is it supposed to represent? Nothing in this chart is clear and straightforward. "
   ]
  },
  {
   "cell_type": "markdown",
   "id": "88103fa4-b264-42ab-a9f7-01426d9e2dd0",
   "metadata": {},
   "source": [
    "### Part 2 - Marks and Channels (25 points)\n",
    "\n",
    "In the lecture, we have briefly introduce the concept of marks and channels. Please answer the following questions."
   ]
  },
  {
   "cell_type": "markdown",
   "id": "d1ad1333-3f80-4112-ae43-bde0f1b41fb6",
   "metadata": {},
   "source": [
    "##### Question 1 (9 points)\n",
    "\n",
    "Briefly explain what marks and channels are in the context of data visualization. Provide at least three examples of marks and three examples of channels."
   ]
  },
  {
   "cell_type": "markdown",
   "id": "e84c2a1d-739b-49f7-85c6-0eae27d5eaac",
   "metadata": {},
   "source": [
    "Marks and channels are fundamentals for data visualization. Marks are the basic elements used to represent data points, whereas channels are used to determine how exactly the marks are conveying information. Three examples of marks are points, lines, and bars, whereas three examples of channels are color, area, and position. "
   ]
  },
  {
   "cell_type": "markdown",
   "id": "390387b2-6fe8-4dc3-b901-d3b4aca9043c",
   "metadata": {},
   "source": [
    "##### Question 2 (8 points)"
   ]
  },
  {
   "cell_type": "markdown",
   "id": "43e058b3-f1a4-49a5-b0a5-4254d1eca4c1",
   "metadata": {},
   "source": [
    "Read the Wiki page for a new type of plot: Sankey diagram. [Link here](https://en.wikipedia.org/wiki/Sankey_diagram). \n",
    "\n",
    "For the following Sankey diagram, identify the marks and channels. \n",
    "\n",
    "<img src=\"https://chartexpo.com/Content/Images/charts/Sankey-Diagram.jpg\" alt=\"drawing\" width=\"300\"/>"
   ]
  },
  {
   "cell_type": "markdown",
   "id": "dc575fb4-8ca5-40b4-b35b-10c25753ad1a",
   "metadata": {},
   "source": [
    "The marks in this diagram are the rectangles (nodes), the links, and the text labels. The channels are position, size of the flows, and color. "
   ]
  },
  {
   "cell_type": "markdown",
   "id": "27b5d3d2-4ffe-480d-983d-25242a3faa00",
   "metadata": {},
   "source": [
    "##### Quesiton 3 (8 points)"
   ]
  },
  {
   "cell_type": "markdown",
   "id": "5d00e409-2ab7-4f7e-8dd7-c1c0f69a1122",
   "metadata": {},
   "source": [
    "Read the Wiki page for a new type of plot: Treemap. [Link here](https://en.wikipedia.org/wiki/Treemapping).\n",
    "\n",
    "For the following treemap, identify the marks and channels\n",
    "\n",
    "<img src=\"https://miro.medium.com/v2/resize:fit:1400/0*4J4h7Jm-yPojPTUY\" alt=\"drawing\" width=\"300\"/>"
   ]
  },
  {
   "cell_type": "markdown",
   "id": "3bfcf0a5-6ec9-4eb9-8d04-24e22e9591e1",
   "metadata": {},
   "source": [
    "The marks in this graph are the rectangles and the text labels for each rectangle. The channels for this graph are the position, the size, and the color of the rectangles respective to one another. "
   ]
  },
  {
   "cell_type": "markdown",
   "id": "19053952",
   "metadata": {},
   "source": [
    "### Part 3 - Basic data visualization with Python (50 points)\n",
    "\n",
    "Here is a dataset of Seattle weather in 4 years. Load the data and generate corresponding data visualizations. Make sure each figure has title, labels and legends if necessary. Add one or two sentences for question 1 to 5 to talk about what you have learned from the figure. "
   ]
  },
  {
   "cell_type": "code",
   "execution_count": 1,
   "id": "4d7505a2",
   "metadata": {},
   "outputs": [
    {
     "data": {
      "text/html": [
       "<div>\n",
       "<style scoped>\n",
       "    .dataframe tbody tr th:only-of-type {\n",
       "        vertical-align: middle;\n",
       "    }\n",
       "\n",
       "    .dataframe tbody tr th {\n",
       "        vertical-align: top;\n",
       "    }\n",
       "\n",
       "    .dataframe thead th {\n",
       "        text-align: right;\n",
       "    }\n",
       "</style>\n",
       "<table border=\"1\" class=\"dataframe\">\n",
       "  <thead>\n",
       "    <tr style=\"text-align: right;\">\n",
       "      <th></th>\n",
       "      <th>date</th>\n",
       "      <th>precipitation</th>\n",
       "      <th>temp_max</th>\n",
       "      <th>temp_min</th>\n",
       "      <th>wind</th>\n",
       "      <th>weather</th>\n",
       "    </tr>\n",
       "  </thead>\n",
       "  <tbody>\n",
       "    <tr>\n",
       "      <th>0</th>\n",
       "      <td>2012-01-01</td>\n",
       "      <td>0.0</td>\n",
       "      <td>12.8</td>\n",
       "      <td>5.0</td>\n",
       "      <td>4.7</td>\n",
       "      <td>drizzle</td>\n",
       "    </tr>\n",
       "    <tr>\n",
       "      <th>1</th>\n",
       "      <td>2012-01-02</td>\n",
       "      <td>10.9</td>\n",
       "      <td>10.6</td>\n",
       "      <td>2.8</td>\n",
       "      <td>4.5</td>\n",
       "      <td>rain</td>\n",
       "    </tr>\n",
       "    <tr>\n",
       "      <th>2</th>\n",
       "      <td>2012-01-03</td>\n",
       "      <td>0.8</td>\n",
       "      <td>11.7</td>\n",
       "      <td>7.2</td>\n",
       "      <td>2.3</td>\n",
       "      <td>rain</td>\n",
       "    </tr>\n",
       "    <tr>\n",
       "      <th>3</th>\n",
       "      <td>2012-01-04</td>\n",
       "      <td>20.3</td>\n",
       "      <td>12.2</td>\n",
       "      <td>5.6</td>\n",
       "      <td>4.7</td>\n",
       "      <td>rain</td>\n",
       "    </tr>\n",
       "    <tr>\n",
       "      <th>4</th>\n",
       "      <td>2012-01-05</td>\n",
       "      <td>1.3</td>\n",
       "      <td>8.9</td>\n",
       "      <td>2.8</td>\n",
       "      <td>6.1</td>\n",
       "      <td>rain</td>\n",
       "    </tr>\n",
       "  </tbody>\n",
       "</table>\n",
       "</div>"
      ],
      "text/plain": [
       "         date  precipitation  temp_max  temp_min  wind  weather\n",
       "0  2012-01-01            0.0      12.8       5.0   4.7  drizzle\n",
       "1  2012-01-02           10.9      10.6       2.8   4.5     rain\n",
       "2  2012-01-03            0.8      11.7       7.2   2.3     rain\n",
       "3  2012-01-04           20.3      12.2       5.6   4.7     rain\n",
       "4  2012-01-05            1.3       8.9       2.8   6.1     rain"
      ]
     },
     "execution_count": 1,
     "metadata": {},
     "output_type": "execute_result"
    }
   ],
   "source": [
    "import pandas as pd\n",
    "\n",
    "weather = pd.read_csv('weather.csv')\n",
    "weather.head()"
   ]
  },
  {
   "cell_type": "markdown",
   "id": "43b4125a",
   "metadata": {},
   "source": [
    "##### Question 1 (5 pts)\n",
    "\n",
    "Generate a data visualization to show the relationship between precipitation and min temperature.  "
   ]
  },
  {
   "cell_type": "code",
   "execution_count": 5,
   "id": "bb6c5e11",
   "metadata": {},
   "outputs": [
    {
     "data": {
      "text/plain": [
       "Text(0.5, 1.0, 'Relationship between precipitation and minimum temperature')"
      ]
     },
     "execution_count": 5,
     "metadata": {},
     "output_type": "execute_result"
    },
    {
     "data": {
      "image/png": "[encoded data removed]",
      "text/plain": [
       "<Figure size 640x480 with 1 Axes>"
      ]
     },
     "metadata": {},
     "output_type": "display_data"
    }
   ],
   "source": [
    "# scatter plot\n",
    "import matplotlib.pyplot as plt\n",
    "plt.scatter(weather['precipitation'],weather['temp_min'])\n",
    "plt.xlabel('Precipitation (mm)')\n",
    "plt.ylabel('Min Temperature (C)')\n",
    "plt.title('Relationship between precipitation and minimum temperature')"
   ]
  },
  {
   "cell_type": "markdown",
   "id": "6c91a9ed",
   "metadata": {},
   "source": [
    "Although there is not a strong amount of correlation between the two variables, this graph shows that warmer conditions tend to favor more precipitation, whereas colder temperatures tend to be drier. Most of the precipitation is clustered between 0-10 mm, as well as around 5-10 degrees Celsius, which could be interpreted as Seattle's optimal conditions for precipitation. "
   ]
  },
  {
   "cell_type": "markdown",
   "id": "fa75a9b0",
   "metadata": {},
   "source": [
    "##### Question 2 (5 pts)\n",
    "\n",
    "Generate a data visualization to show the relationship between max temperature and weather type.  "
   ]
  },
  {
   "cell_type": "code",
   "execution_count": 13,
   "id": "3579fbea",
   "metadata": {},
   "outputs": [
    {
     "data": {
      "text/plain": [
       "Text(0.5, 1.0, 'Relationship between max temperature and weather type')"
      ]
     },
     "execution_count": 13,
     "metadata": {},
     "output_type": "execute_result"
    },
    {
     "data": {
      "image/png": "[encoded data removed]",
      "text/plain": [
       "<Figure size 640x480 with 1 Axes>"
      ]
     },
     "metadata": {},
     "output_type": "display_data"
    }
   ],
   "source": [
    "# side by side boxplot, because one variable is quantitative and the other is qualitative\n",
    "import seaborn as sns\n",
    "sns.boxplot(data=weather, x='weather', y='temp_max', hue='weather')\n",
    "plt.xlabel('Weather Type')\n",
    "plt.ylabel('Max Temperature (C)')\n",
    "plt.title('Relationship between max temperature and weather type')"
   ]
  },
  {
   "cell_type": "markdown",
   "id": "00d7ca64",
   "metadata": {},
   "source": [
    "As shown in the side by side boxplots above, the sun has the widest range of temperatures, meaning that the sun tends to shine regardless of what the temperature is. The snow has the lowest range, meaning only the coldest temperatures are associated with snow. Rain and drizzle have some overlap, and they have more moderate temperature ranges compared to snow. Lastly, fog has a smaller range of temperatures than sun, but a larger range than snow, meaning it also varies a little but not as much as the sun does. "
   ]
  },
  {
   "cell_type": "markdown",
   "id": "240be469",
   "metadata": {},
   "source": [
    "##### Question 3 (5 pts)\n",
    "\n",
    "Generate a data visualization to show the relationship between max temperature and min temperature, and then show different color for differnet weather type. Customize your color choice. "
   ]
  },
  {
   "cell_type": "code",
   "execution_count": 18,
   "id": "fba7dd3a",
   "metadata": {},
   "outputs": [
    {
     "data": {
      "text/plain": [
       "<matplotlib.legend.Legend at 0x23a5e0ae3d0>"
      ]
     },
     "execution_count": 18,
     "metadata": {},
     "output_type": "execute_result"
    },
    {
     "data": {
      "image/png": "[encoded data removed]",
      "text/plain": [
       "<Figure size 640x480 with 1 Axes>"
      ]
     },
     "metadata": {},
     "output_type": "display_data"
    }
   ],
   "source": [
    "# using a scatterplot, both are continuous variables \n",
    "# first creating a set color palette\n",
    "custom_palette = {\n",
    "    'drizzle': '#1f77b4',  # Blue\n",
    "    'rain': '#ff7f0e',     # Orange\n",
    "    'sun': '#ffff00',      # Yellow\n",
    "    'fog': '#d62728',      # Red\n",
    "    'snow': '#9467bd'      # Purple\n",
    "}\n",
    "\n",
    "sns.scatterplot(data=weather,x='temp_min',y='temp_max',hue='weather',palette=custom_palette)\n",
    "plt.xlabel('Min Temperature (C)')\n",
    "plt.ylabel('Max Temperature (C)')\n",
    "plt.title('Relationship between max temperature and min temperature based on weather type')\n",
    "plt.legend(title='Weather Type')"
   ]
  },
  {
   "cell_type": "markdown",
   "id": "fba38dca",
   "metadata": {},
   "source": [
    "From the graph above, it is evident that snow was associated with the lower temperature ranges for both minimum and maximum temperature. Sun seems to be present pretty consistently throughout all temperatures, same with fog. Drizzle and rain is scattered with little linearity/ consistency. "
   ]
  },
  {
   "cell_type": "markdown",
   "id": "27ce6787",
   "metadata": {},
   "source": [
    "##### Question 4 (5 pts) \n",
    "\n",
    "Generate a data visualization to show the relationship between max temperature, min temperature and wind speed. Notice that wind speed is a continous variable and do not to use a 3D plot. "
   ]
  },
  {
   "cell_type": "code",
   "execution_count": 23,
   "id": "392eb122",
   "metadata": {},
   "outputs": [
    {
     "data": {
      "text/plain": [
       "Text(0, 0.5, 'Maximum Temperature (C)')"
      ]
     },
     "execution_count": 23,
     "metadata": {},
     "output_type": "execute_result"
    },
    {
     "data": {
      "image/png": "[encoded data removed]",
      "text/plain": [
       "<Figure size 640x480 with 2 Axes>"
      ]
     },
     "metadata": {},
     "output_type": "display_data"
    }
   ],
   "source": [
    "# bubble plot- useful for tracking changes over time\n",
    "scatter = plt.scatter(weather['temp_min'], weather['temp_max'], s=weather['wind'] * 20, c=weather['wind'], cmap='coolwarm')\n",
    "\n",
    "# add a colorbar to explain the colors\n",
    "cbar = plt.colorbar(scatter)\n",
    "cbar.set_label('Wind Speed (km/h or mph)')\n",
    "\n",
    "plt.title('Relationship Between Max Temp, Min Temp, and Wind Speed')\n",
    "plt.xlabel('Minimum Temperature (C)')\n",
    "plt.ylabel('Maximum Temperature (C)')"
   ]
  },
  {
   "cell_type": "markdown",
   "id": "6c46837e",
   "metadata": {},
   "source": [
    "The presence of more red coloring towards the bottom left corner of the graph indicates that lower temperatures correspond to higher wind temperatures. Intuitively, this makes sense, because wind causes the temperature to feel cooler. More blue is associated with the top right corner of the graph, proving that less wind is associated with hotter temperatures, which is also intuitive. "
   ]
  },
  {
   "cell_type": "markdown",
   "id": "901a2e9c-671c-4d1b-9906-f4ebc330a00d",
   "metadata": {},
   "source": [
    "##### Question 5 (8 pts)\n",
    "\n",
    "Calculate the average temperature for each day (average on min and max). Plot the average temperature with the date."
   ]
  },
  {
   "cell_type": "code",
   "execution_count": 24,
   "id": "02bd5cb6-3492-40b2-9a10-9d93c23b4dd6",
   "metadata": {},
   "outputs": [
    {
     "data": {
      "text/plain": [
       "Text(0, 0.5, 'Average Temperature (C)')"
      ]
     },
     "execution_count": 24,
     "metadata": {},
     "output_type": "execute_result"
    },
    {
     "data": {
      "image/png": "[encoded data removed]",
      "text/plain": [
       "<Figure size 640x480 with 1 Axes>"
      ]
     },
     "metadata": {},
     "output_type": "display_data"
    }
   ],
   "source": [
    "# first create new column of avg temps\n",
    "weather['temp_avg'] = (weather['temp_min'] + weather['temp_max']) / 2\n",
    "# converting date from string to datetime\n",
    "weather['date'] = pd.to_datetime(weather['date'])\n",
    "# create line plot\n",
    "plt.plot(weather['date'], weather['temp_avg'], label='Average Temperature')\n",
    "plt.title('Average Daily Temperature Over Time', fontsize=14)\n",
    "plt.xlabel('Date')\n",
    "plt.ylabel('Average Temperature (C)')"
   ]
  },
  {
   "cell_type": "markdown",
   "id": "8b0975ab-dc67-4088-853a-0fa22dd5ebb7",
   "metadata": {},
   "source": [
    "This graph visualizes weather trends over certain periods of time. For example, the weather peaks in the warmer months, and drops in the colder months, as shown by the dates. Generally, the pattern of the average temperatures follows the intuitive pattern of what the weather is throughout the year. "
   ]
  },
  {
   "cell_type": "markdown",
   "id": "d7dc3256-8514-4285-9c8a-1b022fd600c1",
   "metadata": {},
   "source": [
    "##### Question 6 (12 pts)\n",
    "\n",
    "Now, let's try to create another categorical variable in this dataset. Make a new variable called \"wind_group\" such that it divides the wind spend into 3 groups, low, mid and high. You can use quantiles to divide the group. Then use \"groupby\" function to get a count table to show the count for each combination of the wind speed group and weather type. For example, get a table similar to this one:"
   ]
  },
  {
   "cell_type": "code",
   "execution_count": 25,
   "id": "5a6c4697-a34a-45c8-9527-53ee579520e1",
   "metadata": {},
   "outputs": [
    {
     "data": {
      "text/html": [
       "<div>\n",
       "<style scoped>\n",
       "    .dataframe tbody tr th:only-of-type {\n",
       "        vertical-align: middle;\n",
       "    }\n",
       "\n",
       "    .dataframe tbody tr th {\n",
       "        vertical-align: top;\n",
       "    }\n",
       "\n",
       "    .dataframe thead th {\n",
       "        text-align: right;\n",
       "    }\n",
       "</style>\n",
       "<table border=\"1\" class=\"dataframe\">\n",
       "  <thead>\n",
       "    <tr style=\"text-align: right;\">\n",
       "      <th></th>\n",
       "      <th>first</th>\n",
       "      <th>second</th>\n",
       "      <th>count</th>\n",
       "    </tr>\n",
       "  </thead>\n",
       "  <tbody>\n",
       "    <tr>\n",
       "      <th>0</th>\n",
       "      <td>A</td>\n",
       "      <td>C</td>\n",
       "      <td>10</td>\n",
       "    </tr>\n",
       "    <tr>\n",
       "      <th>1</th>\n",
       "      <td>A</td>\n",
       "      <td>D</td>\n",
       "      <td>1</td>\n",
       "    </tr>\n",
       "    <tr>\n",
       "      <th>2</th>\n",
       "      <td>B</td>\n",
       "      <td>C</td>\n",
       "      <td>3</td>\n",
       "    </tr>\n",
       "    <tr>\n",
       "      <th>3</th>\n",
       "      <td>B</td>\n",
       "      <td>D</td>\n",
       "      <td>7</td>\n",
       "    </tr>\n",
       "  </tbody>\n",
       "</table>\n",
       "</div>"
      ],
      "text/plain": [
       "  first second  count\n",
       "0     A      C     10\n",
       "1     A      D      1\n",
       "2     B      C      3\n",
       "3     B      D      7"
      ]
     },
     "execution_count": 25,
     "metadata": {},
     "output_type": "execute_result"
    }
   ],
   "source": [
    "import pandas as pd\n",
    "counts = {\n",
    "    \"first\": [\"A\", \"A\", \"B\", \"B\"],\n",
    "    \"second\": [\"C\", \"D\", \"C\", \"D\"], \n",
    "    \"count\": [10, 1, 3, 7]\n",
    "}\n",
    "counts = pd.DataFrame(counts)\n",
    "counts"
   ]
  },
  {
   "cell_type": "markdown",
   "id": "01d9c314-d7df-4e40-bc60-a7b242e27b32",
   "metadata": {},
   "source": [
    "Then use following sample code to make a similar sankey diagram with the Weather data. "
   ]
  },
  {
   "cell_type": "code",
   "execution_count": 29,
   "id": "4eba3d11-ee0a-4133-afab-ee28db8a2964",
   "metadata": {},
   "outputs": [
    {
     "data": {
      "application/vnd.plotly.v1+json": {
       "config": {
        "plotlyServerURL": "https://plot.ly"
       },
       "data": [
        {
         "link": {
          "source": [
           0,
           0,
           1,
           1
          ],
          "target": [
           2,
           3,
           2,
           3
          ],
          "value": [
           10,
           1,
           3,
           7
          ]
         },
         "node": {
          "label": [
           "A",
           "B",
           "C",
           "D"
          ],
          "line": {
           "color": "black",
           "width": 0.5
          },
          "pad": 15,
          "thickness": 20
         },
         "type": "sankey"
        }
       ],
       "layout": {
        "template": {
         "data": {
          "bar": [
           {
            "error_x": {
             "color": "#2a3f5f"
            },
            "error_y": {
             "color": "#2a3f5f"
            },
            "marker": {
             "line": {
              "color": "#E5ECF6",
              "width": 0.5
             },
             "pattern": {
              "fillmode": "overlay",
              "size": 10,
              "solidity": 0.2
             }
            },
            "type": "bar"
           }
          ],
          "barpolar": [
           {
            "marker": {
             "line": {
              "color": "#E5ECF6",
              "width": 0.5
             },
             "pattern": {
              "fillmode": "overlay",
              "size": 10,
              "solidity": 0.2
             }
            },
            "type": "barpolar"
           }
          ],
          "carpet": [
           {
            "aaxis": {
             "endlinecolor": "#2a3f5f",
             "gridcolor": "white",
             "linecolor": "white",
             "minorgridcolor": "white",
             "startlinecolor": "#2a3f5f"
            },
            "baxis": {
             "endlinecolor": "#2a3f5f",
             "gridcolor": "white",
             "linecolor": "white",
             "minorgridcolor": "white",
             "startlinecolor": "#2a3f5f"
            },
            "type": "carpet"
           }
          ],
          "choropleth": [
           {
            "colorbar": {
             "outlinewidth": 0,
             "ticks": ""
            },
            "type": "choropleth"
           }
          ],
          "contour": [
           {
            "colorbar": {
             "outlinewidth": 0,
             "ticks": ""
            },
            "colorscale": [
             [
              0,
              "#0d0887"
             ],
             [
              0.1111111111111111,
              "#46039f"
             ],
             [
              0.2222222222222222,
              "#7201a8"
             ],
             [
              0.3333333333333333,
              "#9c179e"
             ],
             [
              0.4444444444444444,
              "#bd3786"
             ],
             [
              0.5555555555555556,
              "#d8576b"
             ],
             [
              0.6666666666666666,
              "#ed7953"
             ],
             [
              0.7777777777777778,
              "#fb9f3a"
             ],
             [
              0.8888888888888888,
              "#fdca26"
             ],
             [
              1,
              "#f0f921"
             ]
            ],
            "type": "contour"
           }
          ],
          "contourcarpet": [
           {
            "colorbar": {
             "outlinewidth": 0,
             "ticks": ""
            },
            "type": "contourcarpet"
           }
          ],
          "heatmap": [
           {
            "colorbar": {
             "outlinewidth": 0,
             "ticks": ""
            },
            "colorscale": [
             [
              0,
              "#0d0887"
             ],
             [
              0.1111111111111111,
              "#46039f"
             ],
             [
              0.2222222222222222,
              "#7201a8"
             ],
             [
              0.3333333333333333,
              "#9c179e"
             ],
             [
              0.4444444444444444,
              "#bd3786"
             ],
             [
              0.5555555555555556,
              "#d8576b"
             ],
             [
              0.6666666666666666,
              "#ed7953"
             ],
             [
              0.7777777777777778,
              "#fb9f3a"
             ],
             [
              0.8888888888888888,
              "#fdca26"
             ],
             [
              1,
              "#f0f921"
             ]
            ],
            "type": "heatmap"
           }
          ],
          "heatmapgl": [
           {
            "colorbar": {
             "outlinewidth": 0,
             "ticks": ""
            },
            "colorscale": [
             [
              0,
              "#0d0887"
             ],
             [
              0.1111111111111111,
              "#46039f"
             ],
             [
              0.2222222222222222,
              "#7201a8"
             ],
             [
              0.3333333333333333,
              "#9c179e"
             ],
             [
              0.4444444444444444,
              "#bd3786"
             ],
             [
              0.5555555555555556,
              "#d8576b"
             ],
             [
              0.6666666666666666,
              "#ed7953"
             ],
             [
              0.7777777777777778,
              "#fb9f3a"
             ],
             [
              0.8888888888888888,
              "#fdca26"
             ],
             [
              1,
              "#f0f921"
             ]
            ],
            "type": "heatmapgl"
           }
          ],
          "histogram": [
           {
            "marker": {
             "pattern": {
              "fillmode": "overlay",
              "size": 10,
              "solidity": 0.2
             }
            },
            "type": "histogram"
           }
          ],
          "histogram2d": [
           {
            "colorbar": {
             "outlinewidth": 0,
             "ticks": ""
            },
            "colorscale": [
             [
              0,
              "#0d0887"
             ],
             [
              0.1111111111111111,
              "#46039f"
             ],
             [
              0.2222222222222222,
              "#7201a8"
             ],
             [
              0.3333333333333333,
              "#9c179e"
             ],
             [
              0.4444444444444444,
              "#bd3786"
             ],
             [
              0.5555555555555556,
              "#d8576b"
             ],
             [
              0.6666666666666666,
              "#ed7953"
             ],
             [
              0.7777777777777778,
              "#fb9f3a"
             ],
             [
              0.8888888888888888,
              "#fdca26"
             ],
             [
              1,
              "#f0f921"
             ]
            ],
            "type": "histogram2d"
           }
          ],
          "histogram2dcontour": [
           {
            "colorbar": {
             "outlinewidth": 0,
             "ticks": ""
            },
            "colorscale": [
             [
              0,
              "#0d0887"
             ],
             [
              0.1111111111111111,
              "#46039f"
             ],
             [
              0.2222222222222222,
              "#7201a8"
             ],
             [
              0.3333333333333333,
              "#9c179e"
             ],
             [
              0.4444444444444444,
              "#bd3786"
             ],
             [
              0.5555555555555556,
              "#d8576b"
             ],
             [
              0.6666666666666666,
              "#ed7953"
             ],
             [
              0.7777777777777778,
              "#fb9f3a"
             ],
             [
              0.8888888888888888,
              "#fdca26"
             ],
             [
              1,
              "#f0f921"
             ]
            ],
            "type": "histogram2dcontour"
           }
          ],
          "mesh3d": [
           {
            "colorbar": {
             "outlinewidth": 0,
             "ticks": ""
            },
            "type": "mesh3d"
           }
          ],
          "parcoords": [
           {
            "line": {
             "colorbar": {
              "outlinewidth": 0,
              "ticks": ""
             }
            },
            "type": "parcoords"
           }
          ],
          "pie": [
           {
            "automargin": true,
            "type": "pie"
           }
          ],
          "scatter": [
           {
            "fillpattern": {
             "fillmode": "overlay",
             "size": 10,
             "solidity": 0.2
            },
            "type": "scatter"
           }
          ],
          "scatter3d": [
           {
            "line": {
             "colorbar": {
              "outlinewidth": 0,
              "ticks": ""
             }
            },
            "marker": {
             "colorbar": {
              "outlinewidth": 0,
              "ticks": ""
             }
            },
            "type": "scatter3d"
           }
          ],
          "scattercarpet": [
           {
            "marker": {
             "colorbar": {
              "outlinewidth": 0,
              "ticks": ""
             }
            },
            "type": "scattercarpet"
           }
          ],
          "scattergeo": [
           {
            "marker": {
             "colorbar": {
              "outlinewidth": 0,
              "ticks": ""
             }
            },
            "type": "scattergeo"
           }
          ],
          "scattergl": [
           {
            "marker": {
             "colorbar": {
              "outlinewidth": 0,
              "ticks": ""
             }
            },
            "type": "scattergl"
           }
          ],
          "scattermapbox": [
           {
            "marker": {
             "colorbar": {
              "outlinewidth": 0,
              "ticks": ""
             }
            },
            "type": "scattermapbox"
           }
          ],
          "scatterpolar": [
           {
            "marker": {
             "colorbar": {
              "outlinewidth": 0,
              "ticks": ""
             }
            },
            "type": "scatterpolar"
           }
          ],
          "scatterpolargl": [
           {
            "marker": {
             "colorbar": {
              "outlinewidth": 0,
              "ticks": ""
             }
            },
            "type": "scatterpolargl"
           }
          ],
          "scatterternary": [
           {
            "marker": {
             "colorbar": {
              "outlinewidth": 0,
              "ticks": ""
             }
            },
            "type": "scatterternary"
           }
          ],
          "surface": [
           {
            "colorbar": {
             "outlinewidth": 0,
             "ticks": ""
            },
            "colorscale": [
             [
              0,
              "#0d0887"
             ],
             [
              0.1111111111111111,
              "#46039f"
             ],
             [
              0.2222222222222222,
              "#7201a8"
             ],
             [
              0.3333333333333333,
              "#9c179e"
             ],
             [
              0.4444444444444444,
              "#bd3786"
             ],
             [
              0.5555555555555556,
              "#d8576b"
             ],
             [
              0.6666666666666666,
              "#ed7953"
             ],
             [
              0.7777777777777778,
              "#fb9f3a"
             ],
             [
              0.8888888888888888,
              "#fdca26"
             ],
             [
              1,
              "#f0f921"
             ]
            ],
            "type": "surface"
           }
          ],
          "table": [
           {
            "cells": {
             "fill": {
              "color": "#EBF0F8"
             },
             "line": {
              "color": "white"
             }
            },
            "header": {
             "fill": {
              "color": "#C8D4E3"
             },
             "line": {
              "color": "white"
             }
            },
            "type": "table"
           }
          ]
         },
         "layout": {
          "annotationdefaults": {
           "arrowcolor": "#2a3f5f",
           "arrowhead": 0,
           "arrowwidth": 1
          },
          "autotypenumbers": "strict",
          "coloraxis": {
           "colorbar": {
            "outlinewidth": 0,
            "ticks": ""
           }
          },
          "colorscale": {
           "diverging": [
            [
             0,
             "#8e0152"
            ],
            [
             0.1,
             "#c51b7d"
            ],
            [
             0.2,
             "#de77ae"
            ],
            [
             0.3,
             "#f1b6da"
            ],
            [
             0.4,
             "#fde0ef"
            ],
            [
             0.5,
             "#f7f7f7"
            ],
            [
             0.6,
             "#e6f5d0"
            ],
            [
             0.7,
             "#b8e186"
            ],
            [
             0.8,
             "#7fbc41"
            ],
            [
             0.9,
             "#4d9221"
            ],
            [
             1,
             "#276419"
            ]
           ],
           "sequential": [
            [
             0,
             "#0d0887"
            ],
            [
             0.1111111111111111,
             "#46039f"
            ],
            [
             0.2222222222222222,
             "#7201a8"
            ],
            [
             0.3333333333333333,
             "#9c179e"
            ],
            [
             0.4444444444444444,
             "#bd3786"
            ],
            [
             0.5555555555555556,
             "#d8576b"
            ],
            [
             0.6666666666666666,
             "#ed7953"
            ],
            [
             0.7777777777777778,
             "#fb9f3a"
            ],
            [
             0.8888888888888888,
             "#fdca26"
            ],
            [
             1,
             "#f0f921"
            ]
           ],
           "sequentialminus": [
            [
             0,
             "#0d0887"
            ],
            [
             0.1111111111111111,
             "#46039f"
            ],
            [
             0.2222222222222222,
             "#7201a8"
            ],
            [
             0.3333333333333333,
             "#9c179e"
            ],
            [
             0.4444444444444444,
             "#bd3786"
            ],
            [
             0.5555555555555556,
             "#d8576b"
            ],
            [
             0.6666666666666666,
             "#ed7953"
            ],
            [
             0.7777777777777778,
             "#fb9f3a"
            ],
            [
             0.8888888888888888,
             "#fdca26"
            ],
            [
             1,
             "#f0f921"
            ]
           ]
          },
          "colorway": [
           "#636efa",
           "#EF553B",
           "#00cc96",
           "#ab63fa",
           "#FFA15A",
           "#19d3f3",
           "#FF6692",
           "#B6E880",
           "#FF97FF",
           "#FECB52"
          ],
          "font": {
           "color": "#2a3f5f"
          },
          "geo": {
           "bgcolor": "white",
           "lakecolor": "white",
           "landcolor": "#E5ECF6",
           "showlakes": true,
           "showland": true,
           "subunitcolor": "white"
          },
          "hoverlabel": {
           "align": "left"
          },
          "hovermode": "closest",
          "mapbox": {
           "style": "light"
          },
          "paper_bgcolor": "white",
          "plot_bgcolor": "#E5ECF6",
          "polar": {
           "angularaxis": {
            "gridcolor": "white",
            "linecolor": "white",
            "ticks": ""
           },
           "bgcolor": "#E5ECF6",
           "radialaxis": {
            "gridcolor": "white",
            "linecolor": "white",
            "ticks": ""
           }
          },
          "scene": {
           "xaxis": {
            "backgroundcolor": "#E5ECF6",
            "gridcolor": "white",
            "gridwidth": 2,
            "linecolor": "white",
            "showbackground": true,
            "ticks": "",
            "zerolinecolor": "white"
           },
           "yaxis": {
            "backgroundcolor": "#E5ECF6",
            "gridcolor": "white",
            "gridwidth": 2,
            "linecolor": "white",
            "showbackground": true,
            "ticks": "",
            "zerolinecolor": "white"
           },
           "zaxis": {
            "backgroundcolor": "#E5ECF6",
            "gridcolor": "white",
            "gridwidth": 2,
            "linecolor": "white",
            "showbackground": true,
            "ticks": "",
            "zerolinecolor": "white"
           }
          },
          "shapedefaults": {
           "line": {
            "color": "#2a3f5f"
           }
          },
          "ternary": {
           "aaxis": {
            "gridcolor": "white",
            "linecolor": "white",
            "ticks": ""
           },
           "baxis": {
            "gridcolor": "white",
            "linecolor": "white",
            "ticks": ""
           },
           "bgcolor": "#E5ECF6",
           "caxis": {
            "gridcolor": "white",
            "linecolor": "white",
            "ticks": ""
           }
          },
          "title": {
           "x": 0.05
          },
          "xaxis": {
           "automargin": true,
           "gridcolor": "white",
           "linecolor": "white",
           "ticks": "",
           "title": {
            "standoff": 15
           },
           "zerolinecolor": "white",
           "zerolinewidth": 2
          },
          "yaxis": {
           "automargin": true,
           "gridcolor": "white",
           "linecolor": "white",
           "ticks": "",
           "title": {
            "standoff": 15
           },
           "zerolinecolor": "white",
           "zerolinewidth": 2
          }
         }
        },
        "title": {
         "text": "Sample Sankey Diagram"
        }
       }
      },
      "text/html": [
       "<div>                            <div id=\"1066d805-3984-4399-9da5-deed590f83de\" class=\"plotly-graph-div\" style=\"height:525px; width:100%;\"></div>            <script type=\"text/javascript\">                require([\"plotly\"], function(Plotly) {                    window.PLOTLYENV=window.PLOTLYENV || {};                                    if (document.getElementById(\"1066d805-3984-4399-9da5-deed590f83de\")) {                    Plotly.newPlot(                        \"1066d805-3984-4399-9da5-deed590f83de\",                        [{\"link\":{\"source\":[0,0,1,1],\"target\":[2,3,2,3],\"value\":[10,1,3,7]},\"node\":{\"label\":[\"A\",\"B\",\"C\",\"D\"],\"line\":{\"color\":\"black\",\"width\":0.5},\"pad\":15,\"thickness\":20},\"type\":\"sankey\"}],                        {\"template\":{\"data\":{\"histogram2dcontour\":[{\"type\":\"histogram2dcontour\",\"colorbar\":{\"outlinewidth\":0,\"ticks\":\"\"},\"colorscale\":[[0.0,\"#0d0887\"],[0.1111111111111111,\"#46039f\"],[0.2222222222222222,\"#7201a8\"],[0.3333333333333333,\"#9c179e\"],[0.4444444444444444,\"#bd3786\"],[0.5555555555555556,\"#d8576b\"],[0.6666666666666666,\"#ed7953\"],[0.7777777777777778,\"#fb9f3a\"],[0.8888888888888888,\"#fdca26\"],[1.0,\"#f0f921\"]]}],\"choropleth\":[{\"type\":\"choropleth\",\"colorbar\":{\"outlinewidth\":0,\"ticks\":\"\"}}],\"histogram2d\":[{\"type\":\"histogram2d\",\"colorbar\":{\"outlinewidth\":0,\"ticks\":\"\"},\"colorscale\":[[0.0,\"#0d0887\"],[0.1111111111111111,\"#46039f\"],[0.2222222222222222,\"#7201a8\"],[0.3333333333333333,\"#9c179e\"],[0.4444444444444444,\"#bd3786\"],[0.5555555555555556,\"#d8576b\"],[0.6666666666666666,\"#ed7953\"],[0.7777777777777778,\"#fb9f3a\"],[0.8888888888888888,\"#fdca26\"],[1.0,\"#f0f921\"]]}],\"heatmap\":[{\"type\":\"heatmap\",\"colorbar\":{\"outlinewidth\":0,\"ticks\":\"\"},\"colorscale\":[[0.0,\"#0d0887\"],[0.1111111111111111,\"#46039f\"],[0.2222222222222222,\"#7201a8\"],[0.3333333333333333,\"#9c179e\"],[0.4444444444444444,\"#bd3786\"],[0.5555555555555556,\"#d8576b\"],[0.6666666666666666,\"#ed7953\"],[0.7777777777777778,\"#fb9f3a\"],[0.8888888888888888,\"#fdca26\"],[1.0,\"#f0f921\"]]}],\"heatmapgl\":[{\"type\":\"heatmapgl\",\"colorbar\":{\"outlinewidth\":0,\"ticks\":\"\"},\"colorscale\":[[0.0,\"#0d0887\"],[0.1111111111111111,\"#46039f\"],[0.2222222222222222,\"#7201a8\"],[0.3333333333333333,\"#9c179e\"],[0.4444444444444444,\"#bd3786\"],[0.5555555555555556,\"#d8576b\"],[0.6666666666666666,\"#ed7953\"],[0.7777777777777778,\"#fb9f3a\"],[0.8888888888888888,\"#fdca26\"],[1.0,\"#f0f921\"]]}],\"contourcarpet\":[{\"type\":\"contourcarpet\",\"colorbar\":{\"outlinewidth\":0,\"ticks\":\"\"}}],\"contour\":[{\"type\":\"contour\",\"colorbar\":{\"outlinewidth\":0,\"ticks\":\"\"},\"colorscale\":[[0.0,\"#0d0887\"],[0.1111111111111111,\"#46039f\"],[0.2222222222222222,\"#7201a8\"],[0.3333333333333333,\"#9c179e\"],[0.4444444444444444,\"#bd3786\"],[0.5555555555555556,\"#d8576b\"],[0.6666666666666666,\"#ed7953\"],[0.7777777777777778,\"#fb9f3a\"],[0.8888888888888888,\"#fdca26\"],[1.0,\"#f0f921\"]]}],\"surface\":[{\"type\":\"surface\",\"colorbar\":{\"outlinewidth\":0,\"ticks\":\"\"},\"colorscale\":[[0.0,\"#0d0887\"],[0.1111111111111111,\"#46039f\"],[0.2222222222222222,\"#7201a8\"],[0.3333333333333333,\"#9c179e\"],[0.4444444444444444,\"#bd3786\"],[0.5555555555555556,\"#d8576b\"],[0.6666666666666666,\"#ed7953\"],[0.7777777777777778,\"#fb9f3a\"],[0.8888888888888888,\"#fdca26\"],[1.0,\"#f0f921\"]]}],\"mesh3d\":[{\"type\":\"mesh3d\",\"colorbar\":{\"outlinewidth\":0,\"ticks\":\"\"}}],\"scatter\":[{\"fillpattern\":{\"fillmode\":\"overlay\",\"size\":10,\"solidity\":0.2},\"type\":\"scatter\"}],\"parcoords\":[{\"type\":\"parcoords\",\"line\":{\"colorbar\":{\"outlinewidth\":0,\"ticks\":\"\"}}}],\"scatterpolargl\":[{\"type\":\"scatterpolargl\",\"marker\":{\"colorbar\":{\"outlinewidth\":0,\"ticks\":\"\"}}}],\"bar\":[{\"error_x\":{\"color\":\"#2a3f5f\"},\"error_y\":{\"color\":\"#2a3f5f\"},\"marker\":{\"line\":{\"color\":\"#E5ECF6\",\"width\":0.5},\"pattern\":{\"fillmode\":\"overlay\",\"size\":10,\"solidity\":0.2}},\"type\":\"bar\"}],\"scattergeo\":[{\"type\":\"scattergeo\",\"marker\":{\"colorbar\":{\"outlinewidth\":0,\"ticks\":\"\"}}}],\"scatterpolar\":[{\"type\":\"scatterpolar\",\"marker\":{\"colorbar\":{\"outlinewidth\":0,\"ticks\":\"\"}}}],\"histogram\":[{\"marker\":{\"pattern\":{\"fillmode\":\"overlay\",\"size\":10,\"solidity\":0.2}},\"type\":\"histogram\"}],\"scattergl\":[{\"type\":\"scattergl\",\"marker\":{\"colorbar\":{\"outlinewidth\":0,\"ticks\":\"\"}}}],\"scatter3d\":[{\"type\":\"scatter3d\",\"line\":{\"colorbar\":{\"outlinewidth\":0,\"ticks\":\"\"}},\"marker\":{\"colorbar\":{\"outlinewidth\":0,\"ticks\":\"\"}}}],\"scattermapbox\":[{\"type\":\"scattermapbox\",\"marker\":{\"colorbar\":{\"outlinewidth\":0,\"ticks\":\"\"}}}],\"scatterternary\":[{\"type\":\"scatterternary\",\"marker\":{\"colorbar\":{\"outlinewidth\":0,\"ticks\":\"\"}}}],\"scattercarpet\":[{\"type\":\"scattercarpet\",\"marker\":{\"colorbar\":{\"outlinewidth\":0,\"ticks\":\"\"}}}],\"carpet\":[{\"aaxis\":{\"endlinecolor\":\"#2a3f5f\",\"gridcolor\":\"white\",\"linecolor\":\"white\",\"minorgridcolor\":\"white\",\"startlinecolor\":\"#2a3f5f\"},\"baxis\":{\"endlinecolor\":\"#2a3f5f\",\"gridcolor\":\"white\",\"linecolor\":\"white\",\"minorgridcolor\":\"white\",\"startlinecolor\":\"#2a3f5f\"},\"type\":\"carpet\"}],\"table\":[{\"cells\":{\"fill\":{\"color\":\"#EBF0F8\"},\"line\":{\"color\":\"white\"}},\"header\":{\"fill\":{\"color\":\"#C8D4E3\"},\"line\":{\"color\":\"white\"}},\"type\":\"table\"}],\"barpolar\":[{\"marker\":{\"line\":{\"color\":\"#E5ECF6\",\"width\":0.5},\"pattern\":{\"fillmode\":\"overlay\",\"size\":10,\"solidity\":0.2}},\"type\":\"barpolar\"}],\"pie\":[{\"automargin\":true,\"type\":\"pie\"}]},\"layout\":{\"autotypenumbers\":\"strict\",\"colorway\":[\"#636efa\",\"#EF553B\",\"#00cc96\",\"#ab63fa\",\"#FFA15A\",\"#19d3f3\",\"#FF6692\",\"#B6E880\",\"#FF97FF\",\"#FECB52\"],\"font\":{\"color\":\"#2a3f5f\"},\"hovermode\":\"closest\",\"hoverlabel\":{\"align\":\"left\"},\"paper_bgcolor\":\"white\",\"plot_bgcolor\":\"#E5ECF6\",\"polar\":{\"bgcolor\":\"#E5ECF6\",\"angularaxis\":{\"gridcolor\":\"white\",\"linecolor\":\"white\",\"ticks\":\"\"},\"radialaxis\":{\"gridcolor\":\"white\",\"linecolor\":\"white\",\"ticks\":\"\"}},\"ternary\":{\"bgcolor\":\"#E5ECF6\",\"aaxis\":{\"gridcolor\":\"white\",\"linecolor\":\"white\",\"ticks\":\"\"},\"baxis\":{\"gridcolor\":\"white\",\"linecolor\":\"white\",\"ticks\":\"\"},\"caxis\":{\"gridcolor\":\"white\",\"linecolor\":\"white\",\"ticks\":\"\"}},\"coloraxis\":{\"colorbar\":{\"outlinewidth\":0,\"ticks\":\"\"}},\"colorscale\":{\"sequential\":[[0.0,\"#0d0887\"],[0.1111111111111111,\"#46039f\"],[0.2222222222222222,\"#7201a8\"],[0.3333333333333333,\"#9c179e\"],[0.4444444444444444,\"#bd3786\"],[0.5555555555555556,\"#d8576b\"],[0.6666666666666666,\"#ed7953\"],[0.7777777777777778,\"#fb9f3a\"],[0.8888888888888888,\"#fdca26\"],[1.0,\"#f0f921\"]],\"sequentialminus\":[[0.0,\"#0d0887\"],[0.1111111111111111,\"#46039f\"],[0.2222222222222222,\"#7201a8\"],[0.3333333333333333,\"#9c179e\"],[0.4444444444444444,\"#bd3786\"],[0.5555555555555556,\"#d8576b\"],[0.6666666666666666,\"#ed7953\"],[0.7777777777777778,\"#fb9f3a\"],[0.8888888888888888,\"#fdca26\"],[1.0,\"#f0f921\"]],\"diverging\":[[0,\"#8e0152\"],[0.1,\"#c51b7d\"],[0.2,\"#de77ae\"],[0.3,\"#f1b6da\"],[0.4,\"#fde0ef\"],[0.5,\"#f7f7f7\"],[0.6,\"#e6f5d0\"],[0.7,\"#b8e186\"],[0.8,\"#7fbc41\"],[0.9,\"#4d9221\"],[1,\"#276419\"]]},\"xaxis\":{\"gridcolor\":\"white\",\"linecolor\":\"white\",\"ticks\":\"\",\"title\":{\"standoff\":15},\"zerolinecolor\":\"white\",\"automargin\":true,\"zerolinewidth\":2},\"yaxis\":{\"gridcolor\":\"white\",\"linecolor\":\"white\",\"ticks\":\"\",\"title\":{\"standoff\":15},\"zerolinecolor\":\"white\",\"automargin\":true,\"zerolinewidth\":2},\"scene\":{\"xaxis\":{\"backgroundcolor\":\"#E5ECF6\",\"gridcolor\":\"white\",\"linecolor\":\"white\",\"showbackground\":true,\"ticks\":\"\",\"zerolinecolor\":\"white\",\"gridwidth\":2},\"yaxis\":{\"backgroundcolor\":\"#E5ECF6\",\"gridcolor\":\"white\",\"linecolor\":\"white\",\"showbackground\":true,\"ticks\":\"\",\"zerolinecolor\":\"white\",\"gridwidth\":2},\"zaxis\":{\"backgroundcolor\":\"#E5ECF6\",\"gridcolor\":\"white\",\"linecolor\":\"white\",\"showbackground\":true,\"ticks\":\"\",\"zerolinecolor\":\"white\",\"gridwidth\":2}},\"shapedefaults\":{\"line\":{\"color\":\"#2a3f5f\"}},\"annotationdefaults\":{\"arrowcolor\":\"#2a3f5f\",\"arrowhead\":0,\"arrowwidth\":1},\"geo\":{\"bgcolor\":\"white\",\"landcolor\":\"#E5ECF6\",\"subunitcolor\":\"white\",\"showland\":true,\"showlakes\":true,\"lakecolor\":\"white\"},\"title\":{\"x\":0.05},\"mapbox\":{\"style\":\"light\"}}},\"title\":{\"text\":\"Sample Sankey Diagram\"}},                        {\"responsive\": true}                    ).then(function(){\n",
       "                            \n",
       "var gd = document.getElementById('1066d805-3984-4399-9da5-deed590f83de');\n",
       "var x = new MutationObserver(function (mutations, observer) {{\n",
       "        var display = window.getComputedStyle(gd).display;\n",
       "        if (!display || display === 'none') {{\n",
       "            console.log([gd, 'removed!']);\n",
       "            Plotly.purge(gd);\n",
       "            observer.disconnect();\n",
       "        }}\n",
       "}});\n",
       "\n",
       "// Listen for the removal of the full notebook cells\n",
       "var notebookContainer = gd.closest('#notebook-container');\n",
       "if (notebookContainer) {{\n",
       "    x.observe(notebookContainer, {childList: true});\n",
       "}}\n",
       "\n",
       "// Listen for the clearing of the current output cell\n",
       "var outputEl = gd.closest('.output');\n",
       "if (outputEl) {{\n",
       "    x.observe(outputEl, {childList: true});\n",
       "}}\n",
       "\n",
       "                        })                };                });            </script>        </div>"
      ]
     },
     "metadata": {},
     "output_type": "display_data"
    }
   ],
   "source": [
    "import plotly.graph_objects as go\n",
    "\n",
    "labels = [\"A\", \"B\", \"C\", \"D\"]\n",
    "label_to_index = {label: i for i, label in enumerate(labels)}\n",
    "\n",
    "fig = go.Figure(data=[go.Sankey(\n",
    "    node=dict(\n",
    "        pad=15,\n",
    "        thickness=20,\n",
    "        line=dict(color=\"black\", width=0.5),\n",
    "        label = labels\n",
    "    ),\n",
    "    link=dict(\n",
    "        source=counts[\"first\"].map(label_to_index),\n",
    "        target=counts[\"second\"].map(label_to_index),\n",
    "        value=counts[\"count\"]\n",
    "    )\n",
    ")])\n",
    "\n",
    "# Update the layout and show the diagram\n",
    "fig.update_layout(title_text=\"Sample Sankey Diagram\")\n",
    "fig.show()"
   ]
  },
  {
   "cell_type": "code",
   "execution_count": 27,
   "id": "7c107f15-209e-4de0-9645-15bbe4a596ff",
   "metadata": {},
   "outputs": [
    {
     "name": "stdout",
     "output_type": "stream",
     "text": [
      "   wind_group  weather  count\n",
      "0         low  drizzle     53\n",
      "1         low      fog    346\n",
      "2         low     rain    207\n",
      "3         low     snow     13\n",
      "4         low      sun    668\n",
      "5         mid  drizzle      1\n",
      "6         mid      fog     65\n",
      "7         mid     rain     52\n",
      "8         mid     snow     10\n",
      "9         mid      sun     46\n",
      "10       high  drizzle      0\n",
      "11       high      fog      0\n",
      "12       high     rain      0\n",
      "13       high     snow      0\n",
      "14       high      sun      0\n"
     ]
    }
   ],
   "source": [
    "# Defining the wind speed categories first\n",
    "weather['wind_group'] = pd.cut(\n",
    "    weather['wind'],\n",
    "    bins=[-float('inf'), 5, 15, float('inf')],  \n",
    "    labels=['low', 'mid', 'high']\n",
    ")\n",
    "\n",
    "# Group by wind group and weather type\n",
    "counts_df = weather.groupby(['wind_group', 'weather']).size().reset_index(name='count')\n",
    "\n",
    "print(counts_df)"
   ]
  },
  {
   "cell_type": "code",
   "execution_count": 30,
   "id": "0a5720ec-7d2d-4f1a-9afe-0506c7ea3298",
   "metadata": {},
   "outputs": [
    {
     "data": {
      "application/vnd.plotly.v1+json": {
       "config": {
        "plotlyServerURL": "https://plot.ly"
       },
       "data": [
        {
         "link": {
          "source": [
           1460,
           1460,
           1460,
           1460,
           1460,
           1452,
           1452,
           1452,
           1452,
           1452,
           null,
           null,
           null,
           null,
           null
          ],
          "target": [
           2835,
           2919,
           2854,
           1906,
           2921,
           2835,
           2919,
           2854,
           1906,
           2921,
           2835,
           2919,
           2854,
           1906,
           2921
          ],
          "value": [
           53,
           346,
           207,
           13,
           668,
           1,
           65,
           52,
           10,
           46,
           0,
           0,
           0,
           0,
           0
          ]
         },
         "node": {
          "label": [
           "low",
           "low",
           "low",
           "low",
           "mid",
           "low",
           "low",
           "low",
           "low",
           "low",
           "mid",
           "low",
           "low",
           "mid",
           "low",
           "low",
           "mid",
           "low",
           "low",
           "low",
           "mid",
           "low",
           "low",
           "mid",
           "mid",
           "low",
           "low",
           "low",
           "low",
           "mid",
           "low",
           "low",
           "low",
           "mid",
           "low",
           "low",
           "low",
           "mid",
           "low",
           "low",
           "low",
           "low",
           "low",
           "low",
           "low",
           "low",
           "low",
           "low",
           "mid",
           "low",
           "low",
           "mid",
           "mid",
           "low",
           "low",
           "mid",
           "low",
           "low",
           "low",
           "mid",
           "low",
           "mid",
           "mid",
           "mid",
           "mid",
           "low",
           "low",
           "low",
           "low",
           "low",
           "mid",
           "mid",
           "mid",
           "low",
           "mid",
           "mid",
           "low",
           "low",
           "low",
           "mid",
           "low",
           "low",
           "low",
           "mid",
           "low",
           "low",
           "low",
           "mid",
           "low",
           "low",
           "low",
           "mid",
           "low",
           "low",
           "low",
           "low",
           "low",
           "low",
           "low",
           "low",
           "low",
           "low",
           "low",
           "low",
           "low",
           "low",
           "mid",
           "low",
           "low",
           "low",
           "low",
           "low",
           "low",
           "low",
           "low",
           "low",
           "mid",
           "low",
           "low",
           "low",
           "mid",
           "mid",
           "low",
           "low",
           "low",
           "low",
           "low",
           "low",
           "low",
           "low",
           "low",
           "low",
           "low",
           "low",
           "low",
           "low",
           "low",
           "low",
           "low",
           "low",
           "low",
           "low",
           "low",
           "mid",
           "low",
           "low",
           "low",
           "low",
           "low",
           "low",
           "low",
           "low",
           "low",
           "low",
           "low",
           "low",
           "low",
           "low",
           "low",
           "low",
           "low",
           "low",
           "low",
           "low",
           "low",
           "low",
           "low",
           "low",
           "mid",
           "low",
           "low",
           "low",
           "low",
           "low",
           "low",
           "low",
           "low",
           "low",
           "low",
           "low",
           "low",
           "low",
           "low",
           "low",
           "mid",
           "low",
           "low",
           "low",
           "low",
           "low",
           "low",
           "low",
           "low",
           "low",
           "low",
           "low",
           "low",
           "low",
           "low",
           "low",
           "low",
           "low",
           "low",
           "low",
           "low",
           "low",
           "low",
           "low",
           "low",
           "low",
           "low",
           "low",
           "low",
           "low",
           "low",
           "low",
           "low",
           "low",
           "low",
           "low",
           "low",
           "low",
           "low",
           "low",
           "low",
           "low",
           "low",
           "low",
           "low",
           "low",
           "low",
           "low",
           "low",
           "low",
           "low",
           "low",
           "low",
           "low",
           "low",
           "low",
           "low",
           "low",
           "low",
           "low",
           "low",
           "low",
           "low",
           "low",
           "low",
           "low",
           "low",
           "low",
           "low",
           "low",
           "low",
           "mid",
           "low",
           "low",
           "low",
           "low",
           "low",
           "low",
           "low",
           "low",
           "low",
           "low",
           "low",
           "low",
           "low",
           "low",
           "low",
           "low",
           "low",
           "low",
           "low",
           "low",
           "mid",
           "mid",
           "mid",
           "mid",
           "low",
           "low",
           "low",
           "low",
           "low",
           "low",
           "low",
           "low",
           "low",
           "mid",
           "low",
           "low",
           "mid",
           "mid",
           "low",
           "low",
           "low",
           "low",
           "low",
           "low",
           "mid",
           "low",
           "low",
           "low",
           "low",
           "low",
           "low",
           "low",
           "low",
           "low",
           "low",
           "low",
           "low",
           "low",
           "low",
           "low",
           "low",
           "low",
           "low",
           "low",
           "low",
           "mid",
           "low",
           "mid",
           "low",
           "mid",
           "low",
           "low",
           "low",
           "low",
           "low",
           "low",
           "low",
           "low",
           "low",
           "mid",
           "mid",
           "low",
           "mid",
           "low",
           "mid",
           "low",
           "low",
           "low",
           "low",
           "low",
           "low",
           "low",
           "low",
           "mid",
           "mid",
           "mid",
           "mid",
           "mid",
           "low",
           "low",
           "low",
           "low",
           "low",
           "low",
           "low",
           "low",
           "low",
           "low",
           "low",
           "low",
           "low",
           "low",
           "low",
           "low",
           "low",
           "low",
           "mid",
           "mid",
           "mid",
           "low",
           "low",
           "low",
           "low",
           "low",
           "low",
           "low",
           "low",
           "low",
           "low",
           "low",
           "low",
           "low",
           "low",
           "low",
           "low",
           "low",
           "low",
           "low",
           "low",
           "low",
           "low",
           "low",
           "low",
           "low",
           "low",
           "mid",
           "low",
           "low",
           "low",
           "low",
           "low",
           "low",
           "mid",
           "low",
           "low",
           "low",
           "mid",
           "low",
           "low",
           "low",
           "low",
           "mid",
           "mid",
           "low",
           "mid",
           "mid",
           "low",
           "low",
           "low",
           "mid",
           "low",
           "low",
           "low",
           "low",
           "low",
           "low",
           "low",
           "low",
           "low",
           "low",
           "mid",
           "low",
           "low",
           "low",
           "mid",
           "mid",
           "mid",
           "low",
           "mid",
           "low",
           "low",
           "low",
           "low",
           "low",
           "low",
           "low",
           "low",
           "low",
           "low",
           "low",
           "low",
           "low",
           "low",
           "low",
           "mid",
           "low",
           "low",
           "low",
           "low",
           "mid",
           "low",
           "low",
           "mid",
           "low",
           "low",
           "low",
           "low",
           "low",
           "low",
           "mid",
           "low",
           "low",
           "low",
           "low",
           "low",
           "low",
           "mid",
           "mid",
           "low",
           "low",
           "low",
           "low",
           "low",
           "mid",
           "mid",
           "low",
           "low",
           "low",
           "low",
           "low",
           "low",
           "low",
           "low",
           "low",
           "low",
           "low",
           "low",
           "low",
           "low",
           "low",
           "low",
           "low",
           "low",
           "low",
           "low",
           "low",
           "low",
           "low",
           "low",
           "mid",
           "low",
           "low",
           "low",
           "low",
           "low",
           "low",
           "low",
           "low",
           "low",
           "low",
           "low",
           "mid",
           "low",
           "low",
           "low",
           "low",
           "low",
           "low",
           "low",
           "low",
           "low",
           "low",
           "low",
           "low",
           "low",
           "low",
           "low",
           "low",
           "low",
           "low",
           "low",
           "low",
           "low",
           "low",
           "low",
           "low",
           "low",
           "low",
           "low",
           "low",
           "low",
           "low",
           "low",
           "low",
           "low",
           "low",
           "low",
           "low",
           "low",
           "low",
           "low",
           "low",
           "low",
           "low",
           "low",
           "low",
           "low",
           "low",
           "low",
           "low",
           "low",
           "low",
           "low",
           "low",
           "low",
           "low",
           "low",
           "low",
           "low",
           "low",
           "low",
           "low",
           "low",
           "low",
           "low",
           "low",
           "low",
           "low",
           "low",
           "low",
           "low",
           "low",
           "low",
           "low",
           "low",
           "low",
           "low",
           "low",
           "low",
           "low",
           "low",
           "low",
           "low",
           "low",
           "low",
           "low",
           "low",
           "low",
           "low",
           "low",
           "low",
           "low",
           "low",
           "low",
           "low",
           "low",
           "low",
           "low",
           "low",
           "low",
           "low",
           "low",
           "low",
           "low",
           "mid",
           "low",
           "low",
           "low",
           "low",
           "low",
           "mid",
           "mid",
           "mid",
           "low",
           "low",
           "low",
           "low",
           "low",
           "low",
           "mid",
           "low",
           "low",
           "low",
           "low",
           "low",
           "low",
           "low",
           "low",
           "low",
           "low",
           "low",
           "low",
           "low",
           "low",
           "low",
           "low",
           "low",
           "low",
           "low",
           "low",
           "mid",
           "low",
           "low",
           "low",
           "low",
           "mid",
           "low",
           "low",
           "low",
           "low",
           "mid",
           "low",
           "low",
           "low",
           "low",
           "low",
           "low",
           "low",
           "mid",
           "low",
           "mid",
           "low",
           "mid",
           "low",
           "low",
           "low",
           "low",
           "low",
           "low",
           "low",
           "low",
           "low",
           "low",
           "low",
           "mid",
           "low",
           "mid",
           "low",
           "low",
           "low",
           "low",
           "low",
           "low",
           "low",
           "low",
           "low",
           "low",
           "low",
           "low",
           "low",
           "low",
           "low",
           "low",
           "low",
           "low",
           "low",
           "mid",
           "low",
           "low",
           "low",
           "low",
           "low",
           "low",
           "low",
           "low",
           "low",
           "low",
           "low",
           "low",
           "low",
           "low",
           "low",
           "low",
           "mid",
           "mid",
           "mid",
           "mid",
           "mid",
           "low",
           "low",
           "low",
           "low",
           "low",
           "low",
           "low",
           "low",
           "low",
           "mid",
           "low",
           "low",
           "low",
           "low",
           "low",
           "low",
           "mid",
           "low",
           "low",
           "low",
           "low",
           "low",
           "mid",
           "low",
           "low",
           "low",
           "low",
           "low",
           "low",
           "mid",
           "mid",
           "mid",
           "mid",
           "mid",
           "mid",
           "mid",
           "mid",
           "mid",
           "low",
           "low",
           "low",
           "low",
           "low",
           "low",
           "low",
           "mid",
           "low",
           "mid",
           "mid",
           "low",
           "low",
           "mid",
           "low",
           "low",
           "low",
           "low",
           "low",
           "low",
           "low",
           "mid",
           "low",
           "low",
           "low",
           "low",
           "mid",
           "low",
           "low",
           "low",
           "low",
           "low",
           "low",
           "low",
           "low",
           "low",
           "mid",
           "mid",
           "low",
           "low",
           "low",
           "low",
           "low",
           "low",
           "low",
           "low",
           "low",
           "low",
           "low",
           "low",
           "low",
           "low",
           "low",
           "low",
           "low",
           "low",
           "low",
           "low",
           "low",
           "low",
           "low",
           "low",
           "mid",
           "low",
           "low",
           "mid",
           "low",
           "low",
           "low",
           "low",
           "low",
           "low",
           "low",
           "low",
           "low",
           "low",
           "low",
           "mid",
           "low",
           "low",
           "low",
           "low",
           "low",
           "low",
           "low",
           "low",
           "low",
           "low",
           "low",
           "low",
           "low",
           "low",
           "low",
           "low",
           "low",
           "low",
           "low",
           "low",
           "low",
           "low",
           "low",
           "low",
           "low",
           "low",
           "low",
           "low",
           "low",
           "low",
           "low",
           "low",
           "low",
           "low",
           "low",
           "low",
           "low",
           "low",
           "low",
           "low",
           "low",
           "low",
           "low",
           "low",
           "low",
           "low",
           "low",
           "low",
           "low",
           "low",
           "low",
           "low",
           "low",
           "low",
           "low",
           "low",
           "low",
           "low",
           "low",
           "low",
           "low",
           "low",
           "low",
           "low",
           "low",
           "low",
           "low",
           "low",
           "low",
           "low",
           "mid",
           "low",
           "low",
           "low",
           "low",
           "low",
           "low",
           "low",
           "low",
           "low",
           "low",
           "low",
           "low",
           "low",
           "low",
           "low",
           "low",
           "low",
           "low",
           "low",
           "low",
           "low",
           "low",
           "low",
           "low",
           "low",
           "low",
           "low",
           "low",
           "low",
           "low",
           "low",
           "low",
           "low",
           "low",
           "low",
           "low",
           "low",
           "low",
           "low",
           "low",
           "low",
           "low",
           "low",
           "low",
           "low",
           "low",
           "low",
           "mid",
           "low",
           "low",
           "low",
           "low",
           "low",
           "mid",
           "mid",
           "low",
           "low",
           "low",
           "low",
           "low",
           "low",
           "low",
           "low",
           "low",
           "low",
           "low",
           "low",
           "low",
           "low",
           "low",
           "low",
           "low",
           "low",
           "low",
           "low",
           "low",
           "low",
           "low",
           "low",
           "low",
           "low",
           "low",
           "low",
           "low",
           "low",
           "low",
           "low",
           "low",
           "low",
           "low",
           "low",
           "low",
           "low",
           "low",
           "low",
           "low",
           "low",
           "mid",
           "low",
           "low",
           "low",
           "low",
           "low",
           "low",
           "low",
           "low",
           "low",
           "low",
           "low",
           "mid",
           "low",
           "low",
           "low",
           "low",
           "mid",
           "mid",
           "low",
           "low",
           "low",
           "low",
           "low",
           "low",
           "low",
           "low",
           "low",
           "low",
           "mid",
           "low",
           "low",
           "low",
           "mid",
           "mid",
           "mid",
           "low",
           "low",
           "mid",
           "low",
           "low",
           "low",
           "low",
           "low",
           "low",
           "mid",
           "mid",
           "mid",
           "low",
           "low",
           "low",
           "mid",
           "low",
           "low",
           "low",
           "low",
           "mid",
           "mid",
           "low",
           "low",
           "low",
           "low",
           "low",
           "low",
           "low",
           "low",
           "low",
           "low",
           "low",
           "low",
           "low",
           "low",
           "mid",
           "low",
           "low",
           "low",
           "low",
           "low",
           "low",
           "low",
           "low",
           "low",
           "low",
           "low",
           "low",
           "mid",
           "low",
           "low",
           "low",
           "low",
           "low",
           "low",
           "low",
           "low",
           "low",
           "low",
           "low",
           "low",
           "low",
           "low",
           "low",
           "low",
           "low",
           "low",
           "low",
           "low",
           "low",
           "low",
           "low",
           "low",
           "low",
           "low",
           "low",
           "low",
           "mid",
           "low",
           "low",
           "low",
           "low",
           "low",
           "low",
           "low",
           "low",
           "low",
           "low",
           "low",
           "mid",
           "low",
           "low",
           "low",
           "low",
           "low",
           "low",
           "low",
           "low",
           "low",
           "low",
           "low",
           "low",
           "low",
           "low",
           "low",
           "low",
           "low",
           "low",
           "low",
           "low",
           "low",
           "low",
           "low",
           "low",
           "low",
           "low",
           "low",
           "mid",
           "low",
           "low",
           "low",
           "low",
           "low",
           "low",
           "low",
           "low",
           "low",
           "low",
           "low",
           "low",
           "low",
           "mid",
           "low",
           "low",
           "low",
           "low",
           "low",
           "low",
           "low",
           "low",
           "low",
           "low",
           "low",
           "low",
           "low",
           "low",
           "low",
           "low",
           "low",
           "low",
           "low",
           "low",
           "low",
           "low",
           "mid",
           "mid",
           "low",
           "low",
           "low",
           "low",
           "low",
           "low",
           "low",
           "low",
           "low",
           "low",
           "low",
           "low",
           "low",
           "low",
           "low",
           "low",
           "low",
           "low",
           "low",
           "low",
           "low",
           "low",
           "low",
           "low",
           "low",
           "low",
           "low",
           "low",
           "low",
           "low",
           "low",
           "low",
           "low",
           "low",
           "low",
           "low",
           "low",
           "low",
           "low",
           "low",
           "low",
           "low",
           "low",
           "low",
           "low",
           "low",
           "low",
           "low",
           "low",
           "low",
           "low",
           "low",
           "low",
           "low",
           "low",
           "low",
           "low",
           "low",
           "low",
           "low",
           "low",
           "low",
           "low",
           "low",
           "low",
           "low",
           "low",
           "low",
           "low",
           "low",
           "low",
           "low",
           "low",
           "low",
           "low",
           "low",
           "low",
           "low",
           "low",
           "low",
           "low",
           "low",
           "low",
           "low",
           "low",
           "low",
           "low",
           "low",
           "low",
           "low",
           "low",
           "low",
           "low",
           "low",
           "low",
           "low",
           "low",
           "low",
           "low",
           "low",
           "mid",
           "low",
           "low",
           "low",
           "low",
           "low",
           "low",
           "low",
           "low",
           "low",
           "low",
           "low",
           "low",
           "low",
           "low",
           "mid",
           "low",
           "mid",
           "low",
           "low",
           "low",
           "low",
           "low",
           "low",
           "low",
           "low",
           "low",
           "low",
           "low",
           "low",
           "low",
           "low",
           "low",
           "low",
           "low",
           "low",
           "low",
           "mid",
           "low",
           "low",
           "low",
           "low",
           "low",
           "low",
           "low",
           "mid",
           "low",
           "low",
           "low",
           "low",
           "low",
           "low",
           "low",
           "low",
           "low",
           "low",
           "low",
           "low",
           "low",
           "low",
           "low",
           "low",
           "low",
           "low",
           "low",
           "low",
           "low",
           "low",
           "low",
           "low",
           "low",
           "low",
           "low",
           "low",
           "low",
           "low",
           "low",
           "mid",
           "mid",
           "mid",
           "low",
           "low",
           "low",
           "low",
           "low",
           "low",
           "low",
           "low",
           "low",
           "low",
           "mid",
           "mid",
           "low",
           "low",
           "low",
           "mid",
           "low",
           "low",
           "low",
           "low",
           "low",
           "low",
           "low",
           "mid",
           "low",
           "low",
           "low",
           "low",
           "low",
           "low",
           "low",
           "mid",
           "low",
           "low",
           "mid",
           "low",
           "mid",
           "mid",
           "mid",
           "low",
           "mid",
           "mid",
           "low",
           "low",
           "low",
           "mid",
           "mid",
           "low",
           "mid",
           "low",
           "low",
           "mid",
           "low",
           "low",
           "low",
           "low",
           "low",
           "low",
           "low",
           "low",
           "drizzle",
           "rain",
           "rain",
           "rain",
           "rain",
           "rain",
           "rain",
           "sun",
           "rain",
           "rain",
           "sun",
           "sun",
           "sun",
           "snow",
           "snow",
           "snow",
           "snow",
           "snow",
           "snow",
           "snow",
           "rain",
           "rain",
           "rain",
           "rain",
           "rain",
           "rain",
           "drizzle",
           "rain",
           "rain",
           "rain",
           "rain",
           "rain",
           "sun",
           "sun",
           "sun",
           "sun",
           "sun",
           "rain",
           "rain",
           "rain",
           "rain",
           "rain",
           "rain",
           "rain",
           "rain",
           "drizzle",
           "rain",
           "rain",
           "rain",
           "sun",
           "rain",
           "rain",
           "rain",
           "sun",
           "rain",
           "rain",
           "snow",
           "sun",
           "snow",
           "snow",
           "sun",
           "rain",
           "sun",
           "rain",
           "rain",
           "snow",
           "sun",
           "sun",
           "rain",
           "rain",
           "rain",
           "snow",
           "snow",
           "rain",
           "snow",
           "rain",
           "snow",
           "rain",
           "rain",
           "rain",
           "rain",
           "rain",
           "sun",
           "sun",
           "rain",
           "drizzle",
           "rain",
           "rain",
           "rain",
           "rain",
           "rain",
           "rain",
           "sun",
           "rain",
           "sun",
           "snow",
           "rain",
           "sun",
           "sun",
           "sun",
           "rain",
           "rain",
           "rain",
           "drizzle",
           "sun",
           "rain",
           "rain",
           "rain",
           "rain",
           "rain",
           "rain",
           "sun",
           "rain",
           "sun",
           "rain",
           "rain",
           "rain",
           "rain",
           "drizzle",
           "rain",
           "rain",
           "rain",
           "rain",
           "rain",
           "rain",
           "sun",
           "sun",
           "sun",
           "sun",
           "rain",
           "sun",
           "sun",
           "sun",
           "sun",
           "sun",
           "drizzle",
           "sun",
           "rain",
           "rain",
           "sun",
           "rain",
           "rain",
           "rain",
           "rain",
           "rain",
           "rain",
           "sun",
           "sun",
           "rain",
           "sun",
           "rain",
           "rain",
           "rain",
           "rain",
           "sun",
           "rain",
           "rain",
           "sun",
           "rain",
           "rain",
           "rain",
           "sun",
           "rain",
           "rain",
           "sun",
           "sun",
           "sun",
           "rain",
           "sun",
           "rain",
           "rain",
           "sun",
           "sun",
           "rain",
           "rain",
           "drizzle",
           "rain",
           "rain",
           "sun",
           "rain",
           "rain",
           "rain",
           "rain",
           "rain",
           "rain",
           "sun",
           "drizzle",
           "sun",
           "sun",
           "rain",
           "rain",
           "drizzle",
           "fog",
           "drizzle",
           "rain",
           "rain",
           "rain",
           "rain",
           "sun",
           "sun",
           "sun",
           "rain",
           "sun",
           "rain",
           "rain",
           "sun",
           "sun",
           "drizzle",
           "drizzle",
           "drizzle",
           "sun",
           "sun",
           "sun",
           "drizzle",
           "sun",
           "sun",
           "sun",
           "sun",
           "rain",
           "drizzle",
           "sun",
           "drizzle",
           "sun",
           "sun",
           "sun",
           "sun",
           "sun",
           "sun",
           "sun",
           "sun",
           "drizzle",
           "drizzle",
           "sun",
           "rain",
           "sun",
           "sun",
           "sun",
           "sun",
           "sun",
           "sun",
           "sun",
           "sun",
           "sun",
           "sun",
           "sun",
           "sun",
           "sun",
           "sun",
           "sun",
           "sun",
           "sun",
           "sun",
           "rain",
           "rain",
           "sun",
           "sun",
           "sun",
           "sun",
           "sun",
           "sun",
           "fog",
           "sun",
           "drizzle",
           "drizzle",
           "drizzle",
           "rain",
           "fog",
           "fog",
           "sun",
           "drizzle",
           "drizzle",
           "rain",
           "sun",
           "sun",
           "sun",
           "sun",
           "sun",
           "sun",
           "sun",
           "sun",
           "sun",
           "sun",
           "drizzle",
           "drizzle",
           "drizzle",
           "rain",
           "rain",
           "rain",
           "rain",
           "sun",
           "sun",
           "rain",
           "rain",
           "rain",
           "rain",
           "rain",
           "rain",
           "rain",
           "sun",
           "rain",
           "rain",
           "rain",
           "rain",
           "rain",
           "rain",
           "rain",
           "rain",
           "rain",
           "rain",
           "rain",
           "rain",
           "rain",
           "rain",
           "rain",
           "sun",
           "rain",
           "rain",
           "rain",
           "rain",
           "drizzle",
           "rain",
           "rain",
           "rain",
           "rain",
           "rain",
           "rain",
           "rain",
           "rain",
           "rain",
           "drizzle",
           "fog",
           "sun",
           "rain",
           "rain",
           "rain",
           "rain",
           "rain",
           "rain",
           "rain",
           "rain",
           "rain",
           "rain",
           "sun",
           "rain",
           "rain",
           "rain",
           "rain",
           "rain",
           "rain",
           "snow",
           "snow",
           "rain",
           "snow",
           "snow",
           "rain",
           "rain",
           "rain",
           "rain",
           "rain",
           "snow",
           "rain",
           "rain",
           "rain",
           "rain",
           "drizzle",
           "drizzle",
           "sun",
           "sun",
           "rain",
           "rain",
           "rain",
           "rain",
           "rain",
           "rain",
           "rain",
           "snow",
           "drizzle",
           "sun",
           "sun",
           "sun",
           "sun",
           "drizzle",
           "drizzle",
           "drizzle",
           "drizzle",
           "drizzle",
           "drizzle",
           "drizzle",
           "rain",
           "rain",
           "rain",
           "rain",
           "rain",
           "rain",
           "rain",
           "rain",
           "rain",
           "rain",
           "drizzle",
           "rain",
           "rain",
           "rain",
           "rain",
           "rain",
           "sun",
           "rain",
           "drizzle",
           "rain",
           "rain",
           "rain",
           "rain",
           "drizzle",
           "rain",
           "rain",
           "rain",
           "sun",
           "rain",
           "rain",
           "rain",
           "rain",
           "rain",
           "rain",
           "rain",
           "rain",
           "rain",
           "rain",
           "rain",
           "sun",
           "sun",
           "rain",
           "rain",
           "rain",
           "drizzle",
           "fog",
           "rain",
           "rain",
           "rain",
           "rain",
           "rain",
           "rain",
           "rain",
           "sun",
           "rain",
           "rain",
           "rain",
           "snow",
           "sun",
           "sun",
           "sun",
           "sun",
           "sun",
           "rain",
           "rain",
           "rain",
           "drizzle",
           "sun",
           "sun",
           "sun",
           "sun",
           "fog",
           "fog",
           "fog",
           "fog",
           "fog",
           "sun",
           "sun",
           "fog",
           "fog",
           "fog",
           "fog",
           "fog",
           "sun",
           "drizzle",
           "fog",
           "fog",
           "sun",
           "sun",
           "sun",
           "sun",
           "sun",
           "sun",
           "fog",
           "sun",
           "drizzle",
           "fog",
           "sun",
           "sun",
           "sun",
           "sun",
           "sun",
           "sun",
           "sun",
           "sun",
           "sun",
           "sun",
           "sun",
           "sun",
           "fog",
           "sun",
           "sun",
           "fog",
           "fog",
           "sun",
           "sun",
           "sun",
           "sun",
           "fog",
           "fog",
           "fog",
           "sun",
           "sun",
           "fog",
           "fog",
           "fog",
           "fog",
           "sun",
           "sun",
           "sun",
           "sun",
           "sun",
           "sun",
           "sun",
           "sun",
           "sun",
           "sun",
           "sun",
           "sun",
           "sun",
           "sun",
           "sun",
           "sun",
           "sun",
           "sun",
           "sun",
           "fog",
           "sun",
           "sun",
           "sun",
           "sun",
           "fog",
           "fog",
           "sun",
           "fog",
           "fog",
           "sun",
           "sun",
           "sun",
           "sun",
           "sun",
           "sun",
           "fog",
           "sun",
           "sun",
           "sun",
           "sun",
           "sun",
           "sun",
           "sun",
           "sun",
           "sun",
           "sun",
           "sun",
           "sun",
           "rain",
           "sun",
           "sun",
           "sun",
           "sun",
           "fog",
           "sun",
           "sun",
           "sun",
           "sun",
           "sun",
           "fog",
           "sun",
           "sun",
           "sun",
           "sun",
           "sun",
           "fog",
           "sun",
           "sun",
           "sun",
           "sun",
           "sun",
           "rain",
           "sun",
           "sun",
           "sun",
           "sun",
           "sun",
           "sun",
           "fog",
           "sun",
           "sun",
           "sun",
           "sun",
           "sun",
           "sun",
           "sun",
           "sun",
           "sun",
           "sun",
           "sun",
           "fog",
           "sun",
           "sun",
           "sun",
           "sun",
           "sun",
           "fog",
           "fog",
           "sun",
           "fog",
           "sun",
           "fog",
           "sun",
           "sun",
           "sun",
           "sun",
           "sun",
           "fog",
           "sun",
           "fog",
           "sun",
           "sun",
           "sun",
           "fog",
           "sun",
           "fog",
           "fog",
           "sun",
           "fog",
           "sun",
           "fog",
           "fog",
           "sun",
           "fog",
           "fog",
           "fog",
           "fog",
           "sun",
           "sun",
           "fog",
           "fog",
           "rain",
           "sun",
           "fog",
           "sun",
           "fog",
           "fog",
           "sun",
           "sun",
           "fog",
           "fog",
           "sun",
           "sun",
           "sun",
           "sun",
           "sun",
           "sun",
           "sun",
           "sun",
           "sun",
           "fog",
           "sun",
           "sun",
           "sun",
           "fog",
           "sun",
           "fog",
           "sun",
           "drizzle",
           "fog",
           "sun",
           "fog",
           "sun",
           "sun",
           "sun",
           "fog",
           "fog",
           "sun",
           "fog",
           "sun",
           "sun",
           "fog",
           "fog",
           "fog",
           "sun",
           "sun",
           "sun",
           "sun",
           "fog",
           "sun",
           "sun",
           "sun",
           "sun",
           "fog",
           "fog",
           "fog",
           "sun",
           "sun",
           "sun",
           "sun",
           "sun",
           "sun",
           "sun",
           "sun",
           "sun",
           "sun",
           "sun",
           "fog",
           "sun",
           "fog",
           "sun",
           "sun",
           "fog",
           "sun",
           "fog",
           "fog",
           "fog",
           "fog",
           "sun",
           "sun",
           "sun",
           "fog",
           "sun",
           "sun",
           "sun",
           "sun",
           "sun",
           "sun",
           "fog",
           "fog",
           "sun",
           "fog",
           "sun",
           "fog",
           "fog",
           "sun",
           "fog",
           "fog",
           "sun",
           "sun",
           "sun",
           "sun",
           "sun",
           "sun",
           "sun",
           "sun",
           "sun",
           "sun",
           "fog",
           "sun",
           "sun",
           "sun",
           "sun",
           "fog",
           "fog",
           "sun",
           "fog",
           "sun",
           "sun",
           "sun",
           "sun",
           "sun",
           "sun",
           "sun",
           "fog",
           "fog",
           "fog",
           "fog",
           "fog",
           "fog",
           "fog",
           "fog",
           "fog",
           "fog",
           "fog",
           "sun",
           "fog",
           "fog",
           "fog",
           "fog",
           "fog",
           "fog",
           "sun",
           "sun",
           "sun",
           "sun",
           "fog",
           "fog",
           "fog",
           "fog",
           "fog",
           "sun",
           "fog",
           "fog",
           "fog",
           "fog",
           "fog",
           "fog",
           "fog",
           "fog",
           "fog",
           "fog",
           "sun",
           "sun",
           "sun",
           "sun",
           "sun",
           "sun",
           "sun",
           "fog",
           "fog",
           "fog",
           "fog",
           "fog",
           "sun",
           "sun",
           "sun",
           "sun",
           "sun",
           "sun",
           "fog",
           "sun",
           "sun",
           "fog",
           "sun",
           "sun",
           "sun",
           "sun",
           "sun",
           "sun",
           "sun",
           "fog",
           "fog",
           "sun",
           "fog",
           "sun",
           "fog",
           "fog",
           "fog",
           "fog",
           "sun",
           "sun",
           "fog",
           "sun",
           "sun",
           "sun",
           "sun",
           "sun",
           "fog",
           "fog",
           "fog",
           "sun",
           "sun",
           "fog",
           "sun",
           "fog",
           "sun",
           "sun",
           "sun",
           "sun",
           "sun",
           "sun",
           "sun",
           "sun",
           "sun",
           "sun",
           "sun",
           "sun",
           "fog",
           "sun",
           "fog",
           "sun",
           "sun",
           "sun",
           "sun",
           "sun",
           "sun",
           "sun",
           "sun",
           "sun",
           "sun",
           "sun",
           "sun",
           "sun",
           "sun",
           "sun",
           "sun",
           "sun",
           "sun",
           "fog",
           "sun",
           "fog",
           "fog",
           "fog",
           "sun",
           "sun",
           "sun",
           "sun",
           "sun",
           "sun",
           "sun",
           "sun",
           "sun",
           "fog",
           "fog",
           "sun",
           "sun",
           "sun",
           "sun",
           "sun",
           "sun",
           "fog",
           "sun",
           "fog",
           "sun",
           "sun",
           "fog",
           "sun",
           "sun",
           "rain",
           "sun",
           "sun",
           "sun",
           "sun",
           "sun",
           "fog",
           "sun",
           "sun",
           "fog",
           "sun",
           "sun",
           "sun",
           "sun",
           "sun",
           "sun",
           "sun",
           "sun",
           "sun",
           "sun",
           "sun",
           "sun",
           "sun",
           "sun",
           "fog",
           "fog",
           "sun",
           "sun",
           "sun",
           "rain",
           "fog",
           "fog",
           "sun",
           "fog",
           "sun",
           "sun",
           "sun",
           "sun",
           "sun",
           "sun",
           "sun",
           "sun",
           "sun",
           "sun",
           "sun",
           "sun",
           "sun",
           "sun",
           "fog",
           "fog",
           "sun",
           "fog",
           "sun",
           "fog",
           "fog",
           "sun",
           "sun",
           "sun",
           "sun",
           "sun",
           "sun",
           "sun",
           "sun",
           "sun",
           "sun",
           "sun",
           "sun",
           "fog",
           "sun",
           "fog",
           "sun",
           "fog",
           "fog",
           "fog",
           "fog",
           "fog",
           "fog",
           "fog",
           "fog",
           "sun",
           "sun",
           "sun",
           "sun",
           "sun",
           "fog",
           "fog",
           "fog",
           "fog",
           "fog",
           "fog",
           "rain",
           "sun",
           "fog",
           "fog",
           "fog",
           "sun",
           "fog",
           "fog",
           "sun",
           "fog",
           "sun",
           "fog",
           "sun",
           "sun",
           "fog",
           "fog",
           "sun",
           "fog",
           "fog",
           "fog",
           "fog",
           "fog",
           "fog",
           "fog",
           "fog",
           "fog",
           "fog",
           "sun",
           "fog",
           "fog",
           "sun",
           "sun",
           "sun",
           "sun",
           "sun",
           "sun",
           "sun",
           "sun",
           "sun",
           "sun",
           "fog",
           "fog",
           "sun",
           "fog",
           "fog",
           "fog",
           "sun",
           "fog",
           "fog",
           "fog",
           "sun",
           "sun",
           "fog",
           "sun",
           "fog",
           "fog",
           "fog",
           "sun",
           "fog",
           "fog",
           "fog",
           "fog",
           "sun",
           "fog",
           "fog",
           "sun",
           "sun",
           "fog",
           "fog",
           "sun",
           "fog",
           "sun",
           "sun",
           "fog",
           "fog",
           "fog",
           "fog",
           "fog",
           "fog",
           "fog",
           "sun",
           "sun",
           "sun",
           "fog",
           "fog",
           "fog",
           "fog",
           "fog",
           "fog",
           "fog",
           "fog",
           "fog",
           "fog",
           "fog",
           "fog",
           "fog",
           "fog",
           "fog",
           "fog",
           "rain",
           "sun",
           "fog",
           "fog",
           "fog",
           "fog",
           "fog",
           "fog",
           "fog",
           "fog",
           "fog",
           "sun",
           "fog",
           "fog",
           "fog",
           "fog",
           "fog",
           "fog",
           "fog",
           "fog",
           "fog",
           "fog",
           "fog",
           "fog",
           "fog",
           "sun",
           "fog",
           "fog",
           "sun",
           "fog",
           "sun",
           "sun",
           "fog",
           "fog",
           "sun",
           "sun",
           "sun",
           "sun",
           "fog",
           "fog",
           "fog",
           "sun",
           "sun",
           "sun",
           "sun",
           "sun",
           "sun",
           "sun",
           "fog",
           "fog",
           "fog",
           "fog",
           "fog",
           "sun",
           "sun",
           "fog",
           "fog",
           "fog",
           "sun",
           "sun",
           "sun",
           "sun",
           "fog",
           "sun",
           "fog",
           "fog",
           "fog",
           "sun",
           "fog",
           "sun",
           "sun",
           "fog",
           "fog",
           "rain",
           "sun",
           "fog",
           "sun",
           "sun",
           "sun",
           "sun",
           "sun",
           "sun",
           "fog",
           "sun",
           "sun",
           "fog",
           "sun",
           "sun",
           "sun",
           "sun",
           "sun",
           "sun",
           "sun",
           "fog",
           "sun",
           "fog",
           "fog",
           "fog",
           "fog",
           "fog",
           "fog",
           "sun",
           "sun",
           "sun",
           "sun",
           "sun",
           "sun",
           "fog",
           "fog",
           "sun",
           "sun",
           "sun",
           "sun",
           "fog",
           "fog",
           "fog",
           "fog",
           "fog",
           "sun",
           "sun",
           "sun",
           "sun",
           "fog",
           "sun",
           "sun",
           "sun",
           "sun",
           "sun",
           "sun",
           "sun",
           "sun",
           "sun",
           "sun",
           "sun",
           "fog",
           "sun",
           "sun",
           "sun",
           "sun",
           "sun",
           "sun",
           "sun",
           "sun",
           "sun",
           "sun",
           "sun",
           "sun",
           "sun",
           "drizzle",
           "sun",
           "sun",
           "sun",
           "fog",
           "sun",
           "sun",
           "sun",
           "sun",
           "sun",
           "sun",
           "sun",
           "sun",
           "sun",
           "sun",
           "fog",
           "sun",
           "sun",
           "sun",
           "sun",
           "sun",
           "drizzle",
           "sun",
           "drizzle",
           "sun",
           "sun",
           "sun",
           "sun",
           "sun",
           "sun",
           "sun",
           "sun",
           "sun",
           "sun",
           "sun",
           "sun",
           "sun",
           "sun",
           "sun",
           "fog",
           "fog",
           "fog",
           "fog",
           "sun",
           "sun",
           "sun",
           "sun",
           "sun",
           "sun",
           "sun",
           "fog",
           "sun",
           "sun",
           "sun",
           "fog",
           "sun",
           "sun",
           "sun",
           "rain",
           "sun",
           "rain",
           "sun",
           "sun",
           "sun",
           "sun",
           "drizzle",
           "fog",
           "sun",
           "drizzle",
           "drizzle",
           "sun",
           "sun",
           "sun",
           "sun",
           "fog",
           "fog",
           "fog",
           "sun",
           "fog",
           "sun",
           "sun",
           "sun",
           "sun",
           "fog",
           "fog",
           "sun",
           "sun",
           "fog",
           "sun",
           "sun",
           "fog",
           "sun",
           "sun",
           "sun",
           "fog",
           "sun",
           "sun",
           "fog",
           "fog",
           "sun",
           "sun",
           "fog",
           "fog",
           "sun",
           "sun",
           "sun",
           "sun",
           "fog",
           "fog",
           "fog",
           "sun",
           "sun",
           "sun",
           "drizzle",
           "fog",
           "fog",
           "fog",
           "fog",
           "sun",
           "fog",
           "fog",
           "fog",
           "fog",
           "sun",
           "fog",
           "fog",
           "fog",
           "fog",
           "fog",
           "fog",
           "fog",
           "fog",
           "rain",
           "fog",
           "fog",
           "fog",
           "fog",
           "fog",
           "fog",
           "fog",
           "fog",
           "fog",
           "sun",
           "fog",
           "fog",
           "fog",
           "fog",
           "fog",
           "fog",
           "sun",
           "fog",
           "fog",
           "fog",
           "fog",
           "fog",
           "fog",
           "sun",
           "sun",
           "fog",
           "sun",
           "fog",
           "fog",
           "fog",
           "sun",
           "sun",
           "sun",
           "sun",
           "fog",
           "fog",
           "fog",
           "fog",
           "fog",
           "fog",
           "fog",
           "fog",
           "fog",
           "fog",
           "fog",
           "fog",
           "sun",
           "fog",
           "sun",
           "sun",
           "fog",
           "fog",
           "fog",
           "fog",
           "fog",
           "fog",
           "fog",
           "fog",
           "fog",
           "fog",
           "fog",
           "sun",
           "fog",
           "fog",
           "fog",
           "sun",
           "sun"
          ],
          "line": {
           "color": "black",
           "width": 0.5
          },
          "pad": 15,
          "thickness": 20
         },
         "type": "sankey"
        }
       ],
       "layout": {
        "template": {
         "data": {
          "bar": [
           {
            "error_x": {
             "color": "#2a3f5f"
            },
            "error_y": {
             "color": "#2a3f5f"
            },
            "marker": {
             "line": {
              "color": "#E5ECF6",
              "width": 0.5
             },
             "pattern": {
              "fillmode": "overlay",
              "size": 10,
              "solidity": 0.2
             }
            },
            "type": "bar"
           }
          ],
          "barpolar": [
           {
            "marker": {
             "line": {
              "color": "#E5ECF6",
              "width": 0.5
             },
             "pattern": {
              "fillmode": "overlay",
              "size": 10,
              "solidity": 0.2
             }
            },
            "type": "barpolar"
           }
          ],
          "carpet": [
           {
            "aaxis": {
             "endlinecolor": "#2a3f5f",
             "gridcolor": "white",
             "linecolor": "white",
             "minorgridcolor": "white",
             "startlinecolor": "#2a3f5f"
            },
            "baxis": {
             "endlinecolor": "#2a3f5f",
             "gridcolor": "white",
             "linecolor": "white",
             "minorgridcolor": "white",
             "startlinecolor": "#2a3f5f"
            },
            "type": "carpet"
           }
          ],
          "choropleth": [
           {
            "colorbar": {
             "outlinewidth": 0,
             "ticks": ""
            },
            "type": "choropleth"
           }
          ],
          "contour": [
           {
            "colorbar": {
             "outlinewidth": 0,
             "ticks": ""
            },
            "colorscale": [
             [
              0,
              "#0d0887"
             ],
             [
              0.1111111111111111,
              "#46039f"
             ],
             [
              0.2222222222222222,
              "#7201a8"
             ],
             [
              0.3333333333333333,
              "#9c179e"
             ],
             [
              0.4444444444444444,
              "#bd3786"
             ],
             [
              0.5555555555555556,
              "#d8576b"
             ],
             [
              0.6666666666666666,
              "#ed7953"
             ],
             [
              0.7777777777777778,
              "#fb9f3a"
             ],
             [
              0.8888888888888888,
              "#fdca26"
             ],
             [
              1,
              "#f0f921"
             ]
            ],
            "type": "contour"
           }
          ],
          "contourcarpet": [
           {
            "colorbar": {
             "outlinewidth": 0,
             "ticks": ""
            },
            "type": "contourcarpet"
           }
          ],
          "heatmap": [
           {
            "colorbar": {
             "outlinewidth": 0,
             "ticks": ""
            },
            "colorscale": [
             [
              0,
              "#0d0887"
             ],
             [
              0.1111111111111111,
              "#46039f"
             ],
             [
              0.2222222222222222,
              "#7201a8"
             ],
             [
              0.3333333333333333,
              "#9c179e"
             ],
             [
              0.4444444444444444,
              "#bd3786"
             ],
             [
              0.5555555555555556,
              "#d8576b"
             ],
             [
              0.6666666666666666,
              "#ed7953"
             ],
             [
              0.7777777777777778,
              "#fb9f3a"
             ],
             [
              0.8888888888888888,
              "#fdca26"
             ],
             [
              1,
              "#f0f921"
             ]
            ],
            "type": "heatmap"
           }
          ],
          "heatmapgl": [
           {
            "colorbar": {
             "outlinewidth": 0,
             "ticks": ""
            },
            "colorscale": [
             [
              0,
              "#0d0887"
             ],
             [
              0.1111111111111111,
              "#46039f"
             ],
             [
              0.2222222222222222,
              "#7201a8"
             ],
             [
              0.3333333333333333,
              "#9c179e"
             ],
             [
              0.4444444444444444,
              "#bd3786"
             ],
             [
              0.5555555555555556,
              "#d8576b"
             ],
             [
              0.6666666666666666,
              "#ed7953"
             ],
             [
              0.7777777777777778,
              "#fb9f3a"
             ],
             [
              0.8888888888888888,
              "#fdca26"
             ],
             [
              1,
              "#f0f921"
             ]
            ],
            "type": "heatmapgl"
           }
          ],
          "histogram": [
           {
            "marker": {
             "pattern": {
              "fillmode": "overlay",
              "size": 10,
              "solidity": 0.2
             }
            },
            "type": "histogram"
           }
          ],
          "histogram2d": [
           {
            "colorbar": {
             "outlinewidth": 0,
             "ticks": ""
            },
            "colorscale": [
             [
              0,
              "#0d0887"
             ],
             [
              0.1111111111111111,
              "#46039f"
             ],
             [
              0.2222222222222222,
              "#7201a8"
             ],
             [
              0.3333333333333333,
              "#9c179e"
             ],
             [
              0.4444444444444444,
              "#bd3786"
             ],
             [
              0.5555555555555556,
              "#d8576b"
             ],
             [
              0.6666666666666666,
              "#ed7953"
             ],
             [
              0.7777777777777778,
              "#fb9f3a"
             ],
             [
              0.8888888888888888,
              "#fdca26"
             ],
             [
              1,
              "#f0f921"
             ]
            ],
            "type": "histogram2d"
           }
          ],
          "histogram2dcontour": [
           {
            "colorbar": {
             "outlinewidth": 0,
             "ticks": ""
            },
            "colorscale": [
             [
              0,
              "#0d0887"
             ],
             [
              0.1111111111111111,
              "#46039f"
             ],
             [
              0.2222222222222222,
              "#7201a8"
             ],
             [
              0.3333333333333333,
              "#9c179e"
             ],
             [
              0.4444444444444444,
              "#bd3786"
             ],
             [
              0.5555555555555556,
              "#d8576b"
             ],
             [
              0.6666666666666666,
              "#ed7953"
             ],
             [
              0.7777777777777778,
              "#fb9f3a"
             ],
             [
              0.8888888888888888,
              "#fdca26"
             ],
             [
              1,
              "#f0f921"
             ]
            ],
            "type": "histogram2dcontour"
           }
          ],
          "mesh3d": [
           {
            "colorbar": {
             "outlinewidth": 0,
             "ticks": ""
            },
            "type": "mesh3d"
           }
          ],
          "parcoords": [
           {
            "line": {
             "colorbar": {
              "outlinewidth": 0,
              "ticks": ""
             }
            },
            "type": "parcoords"
           }
          ],
          "pie": [
           {
            "automargin": true,
            "type": "pie"
           }
          ],
          "scatter": [
           {
            "fillpattern": {
             "fillmode": "overlay",
             "size": 10,
             "solidity": 0.2
            },
            "type": "scatter"
           }
          ],
          "scatter3d": [
           {
            "line": {
             "colorbar": {
              "outlinewidth": 0,
              "ticks": ""
             }
            },
            "marker": {
             "colorbar": {
              "outlinewidth": 0,
              "ticks": ""
             }
            },
            "type": "scatter3d"
           }
          ],
          "scattercarpet": [
           {
            "marker": {
             "colorbar": {
              "outlinewidth": 0,
              "ticks": ""
             }
            },
            "type": "scattercarpet"
           }
          ],
          "scattergeo": [
           {
            "marker": {
             "colorbar": {
              "outlinewidth": 0,
              "ticks": ""
             }
            },
            "type": "scattergeo"
           }
          ],
          "scattergl": [
           {
            "marker": {
             "colorbar": {
              "outlinewidth": 0,
              "ticks": ""
             }
            },
            "type": "scattergl"
           }
          ],
          "scattermapbox": [
           {
            "marker": {
             "colorbar": {
              "outlinewidth": 0,
              "ticks": ""
             }
            },
            "type": "scattermapbox"
           }
          ],
          "scatterpolar": [
           {
            "marker": {
             "colorbar": {
              "outlinewidth": 0,
              "ticks": ""
             }
            },
            "type": "scatterpolar"
           }
          ],
          "scatterpolargl": [
           {
            "marker": {
             "colorbar": {
              "outlinewidth": 0,
              "ticks": ""
             }
            },
            "type": "scatterpolargl"
           }
          ],
          "scatterternary": [
           {
            "marker": {
             "colorbar": {
              "outlinewidth": 0,
              "ticks": ""
             }
            },
            "type": "scatterternary"
           }
          ],
          "surface": [
           {
            "colorbar": {
             "outlinewidth": 0,
             "ticks": ""
            },
            "colorscale": [
             [
              0,
              "#0d0887"
             ],
             [
              0.1111111111111111,
              "#46039f"
             ],
             [
              0.2222222222222222,
              "#7201a8"
             ],
             [
              0.3333333333333333,
              "#9c179e"
             ],
             [
              0.4444444444444444,
              "#bd3786"
             ],
             [
              0.5555555555555556,
              "#d8576b"
             ],
             [
              0.6666666666666666,
              "#ed7953"
             ],
             [
              0.7777777777777778,
              "#fb9f3a"
             ],
             [
              0.8888888888888888,
              "#fdca26"
             ],
             [
              1,
              "#f0f921"
             ]
            ],
            "type": "surface"
           }
          ],
          "table": [
           {
            "cells": {
             "fill": {
              "color": "#EBF0F8"
             },
             "line": {
              "color": "white"
             }
            },
            "header": {
             "fill": {
              "color": "#C8D4E3"
             },
             "line": {
              "color": "white"
             }
            },
            "type": "table"
           }
          ]
         },
         "layout": {
          "annotationdefaults": {
           "arrowcolor": "#2a3f5f",
           "arrowhead": 0,
           "arrowwidth": 1
          },
          "autotypenumbers": "strict",
          "coloraxis": {
           "colorbar": {
            "outlinewidth": 0,
            "ticks": ""
           }
          },
          "colorscale": {
           "diverging": [
            [
             0,
             "#8e0152"
            ],
            [
             0.1,
             "#c51b7d"
            ],
            [
             0.2,
             "#de77ae"
            ],
            [
             0.3,
             "#f1b6da"
            ],
            [
             0.4,
             "#fde0ef"
            ],
            [
             0.5,
             "#f7f7f7"
            ],
            [
             0.6,
             "#e6f5d0"
            ],
            [
             0.7,
             "#b8e186"
            ],
            [
             0.8,
             "#7fbc41"
            ],
            [
             0.9,
             "#4d9221"
            ],
            [
             1,
             "#276419"
            ]
           ],
           "sequential": [
            [
             0,
             "#0d0887"
            ],
            [
             0.1111111111111111,
             "#46039f"
            ],
            [
             0.2222222222222222,
             "#7201a8"
            ],
            [
             0.3333333333333333,
             "#9c179e"
            ],
            [
             0.4444444444444444,
             "#bd3786"
            ],
            [
             0.5555555555555556,
             "#d8576b"
            ],
            [
             0.6666666666666666,
             "#ed7953"
            ],
            [
             0.7777777777777778,
             "#fb9f3a"
            ],
            [
             0.8888888888888888,
             "#fdca26"
            ],
            [
             1,
             "#f0f921"
            ]
           ],
           "sequentialminus": [
            [
             0,
             "#0d0887"
            ],
            [
             0.1111111111111111,
             "#46039f"
            ],
            [
             0.2222222222222222,
             "#7201a8"
            ],
            [
             0.3333333333333333,
             "#9c179e"
            ],
            [
             0.4444444444444444,
             "#bd3786"
            ],
            [
             0.5555555555555556,
             "#d8576b"
            ],
            [
             0.6666666666666666,
             "#ed7953"
            ],
            [
             0.7777777777777778,
             "#fb9f3a"
            ],
            [
             0.8888888888888888,
             "#fdca26"
            ],
            [
             1,
             "#f0f921"
            ]
           ]
          },
          "colorway": [
           "#636efa",
           "#EF553B",
           "#00cc96",
           "#ab63fa",
           "#FFA15A",
           "#19d3f3",
           "#FF6692",
           "#B6E880",
           "#FF97FF",
           "#FECB52"
          ],
          "font": {
           "color": "#2a3f5f"
          },
          "geo": {
           "bgcolor": "white",
           "lakecolor": "white",
           "landcolor": "#E5ECF6",
           "showlakes": true,
           "showland": true,
           "subunitcolor": "white"
          },
          "hoverlabel": {
           "align": "left"
          },
          "hovermode": "closest",
          "mapbox": {
           "style": "light"
          },
          "paper_bgcolor": "white",
          "plot_bgcolor": "#E5ECF6",
          "polar": {
           "angularaxis": {
            "gridcolor": "white",
            "linecolor": "white",
            "ticks": ""
           },
           "bgcolor": "#E5ECF6",
           "radialaxis": {
            "gridcolor": "white",
            "linecolor": "white",
            "ticks": ""
           }
          },
          "scene": {
           "xaxis": {
            "backgroundcolor": "#E5ECF6",
            "gridcolor": "white",
            "gridwidth": 2,
            "linecolor": "white",
            "showbackground": true,
            "ticks": "",
            "zerolinecolor": "white"
           },
           "yaxis": {
            "backgroundcolor": "#E5ECF6",
            "gridcolor": "white",
            "gridwidth": 2,
            "linecolor": "white",
            "showbackground": true,
            "ticks": "",
            "zerolinecolor": "white"
           },
           "zaxis": {
            "backgroundcolor": "#E5ECF6",
            "gridcolor": "white",
            "gridwidth": 2,
            "linecolor": "white",
            "showbackground": true,
            "ticks": "",
            "zerolinecolor": "white"
           }
          },
          "shapedefaults": {
           "line": {
            "color": "#2a3f5f"
           }
          },
          "ternary": {
           "aaxis": {
            "gridcolor": "white",
            "linecolor": "white",
            "ticks": ""
           },
           "baxis": {
            "gridcolor": "white",
            "linecolor": "white",
            "ticks": ""
           },
           "bgcolor": "#E5ECF6",
           "caxis": {
            "gridcolor": "white",
            "linecolor": "white",
            "ticks": ""
           }
          },
          "title": {
           "x": 0.05
          },
          "xaxis": {
           "automargin": true,
           "gridcolor": "white",
           "linecolor": "white",
           "ticks": "",
           "title": {
            "standoff": 15
           },
           "zerolinecolor": "white",
           "zerolinewidth": 2
          },
          "yaxis": {
           "automargin": true,
           "gridcolor": "white",
           "linecolor": "white",
           "ticks": "",
           "title": {
            "standoff": 15
           },
           "zerolinecolor": "white",
           "zerolinewidth": 2
          }
         }
        },
        "title": {
         "text": "Wind Group to Weather Type Sankey Diagram"
        }
       }
      },
      "text/html": [
       "<div>                            <div id=\"94a447cf-717b-407f-b598-77967c3c5f30\" class=\"plotly-graph-div\" style=\"height:525px; width:100%;\"></div>            <script type=\"text/javascript\">                require([\"plotly\"], function(Plotly) {                    window.PLOTLYENV=window.PLOTLYENV || {};                                    if (document.getElementById(\"94a447cf-717b-407f-b598-77967c3c5f30\")) {                    Plotly.newPlot(                        \"94a447cf-717b-407f-b598-77967c3c5f30\",                        [{\"link\":{\"source\":[1460.0,1460.0,1460.0,1460.0,1460.0,1452.0,1452.0,1452.0,1452.0,1452.0,null,null,null,null,null],\"target\":[2835,2919,2854,1906,2921,2835,2919,2854,1906,2921,2835,2919,2854,1906,2921],\"value\":[53,346,207,13,668,1,65,52,10,46,0,0,0,0,0]},\"node\":{\"label\":[\"low\",\"low\",\"low\",\"low\",\"mid\",\"low\",\"low\",\"low\",\"low\",\"low\",\"mid\",\"low\",\"low\",\"mid\",\"low\",\"low\",\"mid\",\"low\",\"low\",\"low\",\"mid\",\"low\",\"low\",\"mid\",\"mid\",\"low\",\"low\",\"low\",\"low\",\"mid\",\"low\",\"low\",\"low\",\"mid\",\"low\",\"low\",\"low\",\"mid\",\"low\",\"low\",\"low\",\"low\",\"low\",\"low\",\"low\",\"low\",\"low\",\"low\",\"mid\",\"low\",\"low\",\"mid\",\"mid\",\"low\",\"low\",\"mid\",\"low\",\"low\",\"low\",\"mid\",\"low\",\"mid\",\"mid\",\"mid\",\"mid\",\"low\",\"low\",\"low\",\"low\",\"low\",\"mid\",\"mid\",\"mid\",\"low\",\"mid\",\"mid\",\"low\",\"low\",\"low\",\"mid\",\"low\",\"low\",\"low\",\"mid\",\"low\",\"low\",\"low\",\"mid\",\"low\",\"low\",\"low\",\"mid\",\"low\",\"low\",\"low\",\"low\",\"low\",\"low\",\"low\",\"low\",\"low\",\"low\",\"low\",\"low\",\"low\",\"low\",\"mid\",\"low\",\"low\",\"low\",\"low\",\"low\",\"low\",\"low\",\"low\",\"low\",\"mid\",\"low\",\"low\",\"low\",\"mid\",\"mid\",\"low\",\"low\",\"low\",\"low\",\"low\",\"low\",\"low\",\"low\",\"low\",\"low\",\"low\",\"low\",\"low\",\"low\",\"low\",\"low\",\"low\",\"low\",\"low\",\"low\",\"low\",\"mid\",\"low\",\"low\",\"low\",\"low\",\"low\",\"low\",\"low\",\"low\",\"low\",\"low\",\"low\",\"low\",\"low\",\"low\",\"low\",\"low\",\"low\",\"low\",\"low\",\"low\",\"low\",\"low\",\"low\",\"low\",\"mid\",\"low\",\"low\",\"low\",\"low\",\"low\",\"low\",\"low\",\"low\",\"low\",\"low\",\"low\",\"low\",\"low\",\"low\",\"low\",\"mid\",\"low\",\"low\",\"low\",\"low\",\"low\",\"low\",\"low\",\"low\",\"low\",\"low\",\"low\",\"low\",\"low\",\"low\",\"low\",\"low\",\"low\",\"low\",\"low\",\"low\",\"low\",\"low\",\"low\",\"low\",\"low\",\"low\",\"low\",\"low\",\"low\",\"low\",\"low\",\"low\",\"low\",\"low\",\"low\",\"low\",\"low\",\"low\",\"low\",\"low\",\"low\",\"low\",\"low\",\"low\",\"low\",\"low\",\"low\",\"low\",\"low\",\"low\",\"low\",\"low\",\"low\",\"low\",\"low\",\"low\",\"low\",\"low\",\"low\",\"low\",\"low\",\"low\",\"low\",\"low\",\"low\",\"low\",\"low\",\"low\",\"low\",\"low\",\"mid\",\"low\",\"low\",\"low\",\"low\",\"low\",\"low\",\"low\",\"low\",\"low\",\"low\",\"low\",\"low\",\"low\",\"low\",\"low\",\"low\",\"low\",\"low\",\"low\",\"low\",\"mid\",\"mid\",\"mid\",\"mid\",\"low\",\"low\",\"low\",\"low\",\"low\",\"low\",\"low\",\"low\",\"low\",\"mid\",\"low\",\"low\",\"mid\",\"mid\",\"low\",\"low\",\"low\",\"low\",\"low\",\"low\",\"mid\",\"low\",\"low\",\"low\",\"low\",\"low\",\"low\",\"low\",\"low\",\"low\",\"low\",\"low\",\"low\",\"low\",\"low\",\"low\",\"low\",\"low\",\"low\",\"low\",\"low\",\"mid\",\"low\",\"mid\",\"low\",\"mid\",\"low\",\"low\",\"low\",\"low\",\"low\",\"low\",\"low\",\"low\",\"low\",\"mid\",\"mid\",\"low\",\"mid\",\"low\",\"mid\",\"low\",\"low\",\"low\",\"low\",\"low\",\"low\",\"low\",\"low\",\"mid\",\"mid\",\"mid\",\"mid\",\"mid\",\"low\",\"low\",\"low\",\"low\",\"low\",\"low\",\"low\",\"low\",\"low\",\"low\",\"low\",\"low\",\"low\",\"low\",\"low\",\"low\",\"low\",\"low\",\"mid\",\"mid\",\"mid\",\"low\",\"low\",\"low\",\"low\",\"low\",\"low\",\"low\",\"low\",\"low\",\"low\",\"low\",\"low\",\"low\",\"low\",\"low\",\"low\",\"low\",\"low\",\"low\",\"low\",\"low\",\"low\",\"low\",\"low\",\"low\",\"low\",\"mid\",\"low\",\"low\",\"low\",\"low\",\"low\",\"low\",\"mid\",\"low\",\"low\",\"low\",\"mid\",\"low\",\"low\",\"low\",\"low\",\"mid\",\"mid\",\"low\",\"mid\",\"mid\",\"low\",\"low\",\"low\",\"mid\",\"low\",\"low\",\"low\",\"low\",\"low\",\"low\",\"low\",\"low\",\"low\",\"low\",\"mid\",\"low\",\"low\",\"low\",\"mid\",\"mid\",\"mid\",\"low\",\"mid\",\"low\",\"low\",\"low\",\"low\",\"low\",\"low\",\"low\",\"low\",\"low\",\"low\",\"low\",\"low\",\"low\",\"low\",\"low\",\"mid\",\"low\",\"low\",\"low\",\"low\",\"mid\",\"low\",\"low\",\"mid\",\"low\",\"low\",\"low\",\"low\",\"low\",\"low\",\"mid\",\"low\",\"low\",\"low\",\"low\",\"low\",\"low\",\"mid\",\"mid\",\"low\",\"low\",\"low\",\"low\",\"low\",\"mid\",\"mid\",\"low\",\"low\",\"low\",\"low\",\"low\",\"low\",\"low\",\"low\",\"low\",\"low\",\"low\",\"low\",\"low\",\"low\",\"low\",\"low\",\"low\",\"low\",\"low\",\"low\",\"low\",\"low\",\"low\",\"low\",\"mid\",\"low\",\"low\",\"low\",\"low\",\"low\",\"low\",\"low\",\"low\",\"low\",\"low\",\"low\",\"mid\",\"low\",\"low\",\"low\",\"low\",\"low\",\"low\",\"low\",\"low\",\"low\",\"low\",\"low\",\"low\",\"low\",\"low\",\"low\",\"low\",\"low\",\"low\",\"low\",\"low\",\"low\",\"low\",\"low\",\"low\",\"low\",\"low\",\"low\",\"low\",\"low\",\"low\",\"low\",\"low\",\"low\",\"low\",\"low\",\"low\",\"low\",\"low\",\"low\",\"low\",\"low\",\"low\",\"low\",\"low\",\"low\",\"low\",\"low\",\"low\",\"low\",\"low\",\"low\",\"low\",\"low\",\"low\",\"low\",\"low\",\"low\",\"low\",\"low\",\"low\",\"low\",\"low\",\"low\",\"low\",\"low\",\"low\",\"low\",\"low\",\"low\",\"low\",\"low\",\"low\",\"low\",\"low\",\"low\",\"low\",\"low\",\"low\",\"low\",\"low\",\"low\",\"low\",\"low\",\"low\",\"low\",\"low\",\"low\",\"low\",\"low\",\"low\",\"low\",\"low\",\"low\",\"low\",\"low\",\"low\",\"low\",\"low\",\"low\",\"low\",\"low\",\"low\",\"mid\",\"low\",\"low\",\"low\",\"low\",\"low\",\"mid\",\"mid\",\"mid\",\"low\",\"low\",\"low\",\"low\",\"low\",\"low\",\"mid\",\"low\",\"low\",\"low\",\"low\",\"low\",\"low\",\"low\",\"low\",\"low\",\"low\",\"low\",\"low\",\"low\",\"low\",\"low\",\"low\",\"low\",\"low\",\"low\",\"low\",\"mid\",\"low\",\"low\",\"low\",\"low\",\"mid\",\"low\",\"low\",\"low\",\"low\",\"mid\",\"low\",\"low\",\"low\",\"low\",\"low\",\"low\",\"low\",\"mid\",\"low\",\"mid\",\"low\",\"mid\",\"low\",\"low\",\"low\",\"low\",\"low\",\"low\",\"low\",\"low\",\"low\",\"low\",\"low\",\"mid\",\"low\",\"mid\",\"low\",\"low\",\"low\",\"low\",\"low\",\"low\",\"low\",\"low\",\"low\",\"low\",\"low\",\"low\",\"low\",\"low\",\"low\",\"low\",\"low\",\"low\",\"low\",\"mid\",\"low\",\"low\",\"low\",\"low\",\"low\",\"low\",\"low\",\"low\",\"low\",\"low\",\"low\",\"low\",\"low\",\"low\",\"low\",\"low\",\"mid\",\"mid\",\"mid\",\"mid\",\"mid\",\"low\",\"low\",\"low\",\"low\",\"low\",\"low\",\"low\",\"low\",\"low\",\"mid\",\"low\",\"low\",\"low\",\"low\",\"low\",\"low\",\"mid\",\"low\",\"low\",\"low\",\"low\",\"low\",\"mid\",\"low\",\"low\",\"low\",\"low\",\"low\",\"low\",\"mid\",\"mid\",\"mid\",\"mid\",\"mid\",\"mid\",\"mid\",\"mid\",\"mid\",\"low\",\"low\",\"low\",\"low\",\"low\",\"low\",\"low\",\"mid\",\"low\",\"mid\",\"mid\",\"low\",\"low\",\"mid\",\"low\",\"low\",\"low\",\"low\",\"low\",\"low\",\"low\",\"mid\",\"low\",\"low\",\"low\",\"low\",\"mid\",\"low\",\"low\",\"low\",\"low\",\"low\",\"low\",\"low\",\"low\",\"low\",\"mid\",\"mid\",\"low\",\"low\",\"low\",\"low\",\"low\",\"low\",\"low\",\"low\",\"low\",\"low\",\"low\",\"low\",\"low\",\"low\",\"low\",\"low\",\"low\",\"low\",\"low\",\"low\",\"low\",\"low\",\"low\",\"low\",\"mid\",\"low\",\"low\",\"mid\",\"low\",\"low\",\"low\",\"low\",\"low\",\"low\",\"low\",\"low\",\"low\",\"low\",\"low\",\"mid\",\"low\",\"low\",\"low\",\"low\",\"low\",\"low\",\"low\",\"low\",\"low\",\"low\",\"low\",\"low\",\"low\",\"low\",\"low\",\"low\",\"low\",\"low\",\"low\",\"low\",\"low\",\"low\",\"low\",\"low\",\"low\",\"low\",\"low\",\"low\",\"low\",\"low\",\"low\",\"low\",\"low\",\"low\",\"low\",\"low\",\"low\",\"low\",\"low\",\"low\",\"low\",\"low\",\"low\",\"low\",\"low\",\"low\",\"low\",\"low\",\"low\",\"low\",\"low\",\"low\",\"low\",\"low\",\"low\",\"low\",\"low\",\"low\",\"low\",\"low\",\"low\",\"low\",\"low\",\"low\",\"low\",\"low\",\"low\",\"low\",\"low\",\"low\",\"mid\",\"low\",\"low\",\"low\",\"low\",\"low\",\"low\",\"low\",\"low\",\"low\",\"low\",\"low\",\"low\",\"low\",\"low\",\"low\",\"low\",\"low\",\"low\",\"low\",\"low\",\"low\",\"low\",\"low\",\"low\",\"low\",\"low\",\"low\",\"low\",\"low\",\"low\",\"low\",\"low\",\"low\",\"low\",\"low\",\"low\",\"low\",\"low\",\"low\",\"low\",\"low\",\"low\",\"low\",\"low\",\"low\",\"low\",\"low\",\"mid\",\"low\",\"low\",\"low\",\"low\",\"low\",\"mid\",\"mid\",\"low\",\"low\",\"low\",\"low\",\"low\",\"low\",\"low\",\"low\",\"low\",\"low\",\"low\",\"low\",\"low\",\"low\",\"low\",\"low\",\"low\",\"low\",\"low\",\"low\",\"low\",\"low\",\"low\",\"low\",\"low\",\"low\",\"low\",\"low\",\"low\",\"low\",\"low\",\"low\",\"low\",\"low\",\"low\",\"low\",\"low\",\"low\",\"low\",\"low\",\"low\",\"low\",\"mid\",\"low\",\"low\",\"low\",\"low\",\"low\",\"low\",\"low\",\"low\",\"low\",\"low\",\"low\",\"mid\",\"low\",\"low\",\"low\",\"low\",\"mid\",\"mid\",\"low\",\"low\",\"low\",\"low\",\"low\",\"low\",\"low\",\"low\",\"low\",\"low\",\"mid\",\"low\",\"low\",\"low\",\"mid\",\"mid\",\"mid\",\"low\",\"low\",\"mid\",\"low\",\"low\",\"low\",\"low\",\"low\",\"low\",\"mid\",\"mid\",\"mid\",\"low\",\"low\",\"low\",\"mid\",\"low\",\"low\",\"low\",\"low\",\"mid\",\"mid\",\"low\",\"low\",\"low\",\"low\",\"low\",\"low\",\"low\",\"low\",\"low\",\"low\",\"low\",\"low\",\"low\",\"low\",\"mid\",\"low\",\"low\",\"low\",\"low\",\"low\",\"low\",\"low\",\"low\",\"low\",\"low\",\"low\",\"low\",\"mid\",\"low\",\"low\",\"low\",\"low\",\"low\",\"low\",\"low\",\"low\",\"low\",\"low\",\"low\",\"low\",\"low\",\"low\",\"low\",\"low\",\"low\",\"low\",\"low\",\"low\",\"low\",\"low\",\"low\",\"low\",\"low\",\"low\",\"low\",\"low\",\"mid\",\"low\",\"low\",\"low\",\"low\",\"low\",\"low\",\"low\",\"low\",\"low\",\"low\",\"low\",\"mid\",\"low\",\"low\",\"low\",\"low\",\"low\",\"low\",\"low\",\"low\",\"low\",\"low\",\"low\",\"low\",\"low\",\"low\",\"low\",\"low\",\"low\",\"low\",\"low\",\"low\",\"low\",\"low\",\"low\",\"low\",\"low\",\"low\",\"low\",\"mid\",\"low\",\"low\",\"low\",\"low\",\"low\",\"low\",\"low\",\"low\",\"low\",\"low\",\"low\",\"low\",\"low\",\"mid\",\"low\",\"low\",\"low\",\"low\",\"low\",\"low\",\"low\",\"low\",\"low\",\"low\",\"low\",\"low\",\"low\",\"low\",\"low\",\"low\",\"low\",\"low\",\"low\",\"low\",\"low\",\"low\",\"mid\",\"mid\",\"low\",\"low\",\"low\",\"low\",\"low\",\"low\",\"low\",\"low\",\"low\",\"low\",\"low\",\"low\",\"low\",\"low\",\"low\",\"low\",\"low\",\"low\",\"low\",\"low\",\"low\",\"low\",\"low\",\"low\",\"low\",\"low\",\"low\",\"low\",\"low\",\"low\",\"low\",\"low\",\"low\",\"low\",\"low\",\"low\",\"low\",\"low\",\"low\",\"low\",\"low\",\"low\",\"low\",\"low\",\"low\",\"low\",\"low\",\"low\",\"low\",\"low\",\"low\",\"low\",\"low\",\"low\",\"low\",\"low\",\"low\",\"low\",\"low\",\"low\",\"low\",\"low\",\"low\",\"low\",\"low\",\"low\",\"low\",\"low\",\"low\",\"low\",\"low\",\"low\",\"low\",\"low\",\"low\",\"low\",\"low\",\"low\",\"low\",\"low\",\"low\",\"low\",\"low\",\"low\",\"low\",\"low\",\"low\",\"low\",\"low\",\"low\",\"low\",\"low\",\"low\",\"low\",\"low\",\"low\",\"low\",\"low\",\"low\",\"low\",\"mid\",\"low\",\"low\",\"low\",\"low\",\"low\",\"low\",\"low\",\"low\",\"low\",\"low\",\"low\",\"low\",\"low\",\"low\",\"mid\",\"low\",\"mid\",\"low\",\"low\",\"low\",\"low\",\"low\",\"low\",\"low\",\"low\",\"low\",\"low\",\"low\",\"low\",\"low\",\"low\",\"low\",\"low\",\"low\",\"low\",\"low\",\"mid\",\"low\",\"low\",\"low\",\"low\",\"low\",\"low\",\"low\",\"mid\",\"low\",\"low\",\"low\",\"low\",\"low\",\"low\",\"low\",\"low\",\"low\",\"low\",\"low\",\"low\",\"low\",\"low\",\"low\",\"low\",\"low\",\"low\",\"low\",\"low\",\"low\",\"low\",\"low\",\"low\",\"low\",\"low\",\"low\",\"low\",\"low\",\"low\",\"low\",\"mid\",\"mid\",\"mid\",\"low\",\"low\",\"low\",\"low\",\"low\",\"low\",\"low\",\"low\",\"low\",\"low\",\"mid\",\"mid\",\"low\",\"low\",\"low\",\"mid\",\"low\",\"low\",\"low\",\"low\",\"low\",\"low\",\"low\",\"mid\",\"low\",\"low\",\"low\",\"low\",\"low\",\"low\",\"low\",\"mid\",\"low\",\"low\",\"mid\",\"low\",\"mid\",\"mid\",\"mid\",\"low\",\"mid\",\"mid\",\"low\",\"low\",\"low\",\"mid\",\"mid\",\"low\",\"mid\",\"low\",\"low\",\"mid\",\"low\",\"low\",\"low\",\"low\",\"low\",\"low\",\"low\",\"low\",\"drizzle\",\"rain\",\"rain\",\"rain\",\"rain\",\"rain\",\"rain\",\"sun\",\"rain\",\"rain\",\"sun\",\"sun\",\"sun\",\"snow\",\"snow\",\"snow\",\"snow\",\"snow\",\"snow\",\"snow\",\"rain\",\"rain\",\"rain\",\"rain\",\"rain\",\"rain\",\"drizzle\",\"rain\",\"rain\",\"rain\",\"rain\",\"rain\",\"sun\",\"sun\",\"sun\",\"sun\",\"sun\",\"rain\",\"rain\",\"rain\",\"rain\",\"rain\",\"rain\",\"rain\",\"rain\",\"drizzle\",\"rain\",\"rain\",\"rain\",\"sun\",\"rain\",\"rain\",\"rain\",\"sun\",\"rain\",\"rain\",\"snow\",\"sun\",\"snow\",\"snow\",\"sun\",\"rain\",\"sun\",\"rain\",\"rain\",\"snow\",\"sun\",\"sun\",\"rain\",\"rain\",\"rain\",\"snow\",\"snow\",\"rain\",\"snow\",\"rain\",\"snow\",\"rain\",\"rain\",\"rain\",\"rain\",\"rain\",\"sun\",\"sun\",\"rain\",\"drizzle\",\"rain\",\"rain\",\"rain\",\"rain\",\"rain\",\"rain\",\"sun\",\"rain\",\"sun\",\"snow\",\"rain\",\"sun\",\"sun\",\"sun\",\"rain\",\"rain\",\"rain\",\"drizzle\",\"sun\",\"rain\",\"rain\",\"rain\",\"rain\",\"rain\",\"rain\",\"sun\",\"rain\",\"sun\",\"rain\",\"rain\",\"rain\",\"rain\",\"drizzle\",\"rain\",\"rain\",\"rain\",\"rain\",\"rain\",\"rain\",\"sun\",\"sun\",\"sun\",\"sun\",\"rain\",\"sun\",\"sun\",\"sun\",\"sun\",\"sun\",\"drizzle\",\"sun\",\"rain\",\"rain\",\"sun\",\"rain\",\"rain\",\"rain\",\"rain\",\"rain\",\"rain\",\"sun\",\"sun\",\"rain\",\"sun\",\"rain\",\"rain\",\"rain\",\"rain\",\"sun\",\"rain\",\"rain\",\"sun\",\"rain\",\"rain\",\"rain\",\"sun\",\"rain\",\"rain\",\"sun\",\"sun\",\"sun\",\"rain\",\"sun\",\"rain\",\"rain\",\"sun\",\"sun\",\"rain\",\"rain\",\"drizzle\",\"rain\",\"rain\",\"sun\",\"rain\",\"rain\",\"rain\",\"rain\",\"rain\",\"rain\",\"sun\",\"drizzle\",\"sun\",\"sun\",\"rain\",\"rain\",\"drizzle\",\"fog\",\"drizzle\",\"rain\",\"rain\",\"rain\",\"rain\",\"sun\",\"sun\",\"sun\",\"rain\",\"sun\",\"rain\",\"rain\",\"sun\",\"sun\",\"drizzle\",\"drizzle\",\"drizzle\",\"sun\",\"sun\",\"sun\",\"drizzle\",\"sun\",\"sun\",\"sun\",\"sun\",\"rain\",\"drizzle\",\"sun\",\"drizzle\",\"sun\",\"sun\",\"sun\",\"sun\",\"sun\",\"sun\",\"sun\",\"sun\",\"drizzle\",\"drizzle\",\"sun\",\"rain\",\"sun\",\"sun\",\"sun\",\"sun\",\"sun\",\"sun\",\"sun\",\"sun\",\"sun\",\"sun\",\"sun\",\"sun\",\"sun\",\"sun\",\"sun\",\"sun\",\"sun\",\"sun\",\"rain\",\"rain\",\"sun\",\"sun\",\"sun\",\"sun\",\"sun\",\"sun\",\"fog\",\"sun\",\"drizzle\",\"drizzle\",\"drizzle\",\"rain\",\"fog\",\"fog\",\"sun\",\"drizzle\",\"drizzle\",\"rain\",\"sun\",\"sun\",\"sun\",\"sun\",\"sun\",\"sun\",\"sun\",\"sun\",\"sun\",\"sun\",\"drizzle\",\"drizzle\",\"drizzle\",\"rain\",\"rain\",\"rain\",\"rain\",\"sun\",\"sun\",\"rain\",\"rain\",\"rain\",\"rain\",\"rain\",\"rain\",\"rain\",\"sun\",\"rain\",\"rain\",\"rain\",\"rain\",\"rain\",\"rain\",\"rain\",\"rain\",\"rain\",\"rain\",\"rain\",\"rain\",\"rain\",\"rain\",\"rain\",\"sun\",\"rain\",\"rain\",\"rain\",\"rain\",\"drizzle\",\"rain\",\"rain\",\"rain\",\"rain\",\"rain\",\"rain\",\"rain\",\"rain\",\"rain\",\"drizzle\",\"fog\",\"sun\",\"rain\",\"rain\",\"rain\",\"rain\",\"rain\",\"rain\",\"rain\",\"rain\",\"rain\",\"rain\",\"sun\",\"rain\",\"rain\",\"rain\",\"rain\",\"rain\",\"rain\",\"snow\",\"snow\",\"rain\",\"snow\",\"snow\",\"rain\",\"rain\",\"rain\",\"rain\",\"rain\",\"snow\",\"rain\",\"rain\",\"rain\",\"rain\",\"drizzle\",\"drizzle\",\"sun\",\"sun\",\"rain\",\"rain\",\"rain\",\"rain\",\"rain\",\"rain\",\"rain\",\"snow\",\"drizzle\",\"sun\",\"sun\",\"sun\",\"sun\",\"drizzle\",\"drizzle\",\"drizzle\",\"drizzle\",\"drizzle\",\"drizzle\",\"drizzle\",\"rain\",\"rain\",\"rain\",\"rain\",\"rain\",\"rain\",\"rain\",\"rain\",\"rain\",\"rain\",\"drizzle\",\"rain\",\"rain\",\"rain\",\"rain\",\"rain\",\"sun\",\"rain\",\"drizzle\",\"rain\",\"rain\",\"rain\",\"rain\",\"drizzle\",\"rain\",\"rain\",\"rain\",\"sun\",\"rain\",\"rain\",\"rain\",\"rain\",\"rain\",\"rain\",\"rain\",\"rain\",\"rain\",\"rain\",\"rain\",\"sun\",\"sun\",\"rain\",\"rain\",\"rain\",\"drizzle\",\"fog\",\"rain\",\"rain\",\"rain\",\"rain\",\"rain\",\"rain\",\"rain\",\"sun\",\"rain\",\"rain\",\"rain\",\"snow\",\"sun\",\"sun\",\"sun\",\"sun\",\"sun\",\"rain\",\"rain\",\"rain\",\"drizzle\",\"sun\",\"sun\",\"sun\",\"sun\",\"fog\",\"fog\",\"fog\",\"fog\",\"fog\",\"sun\",\"sun\",\"fog\",\"fog\",\"fog\",\"fog\",\"fog\",\"sun\",\"drizzle\",\"fog\",\"fog\",\"sun\",\"sun\",\"sun\",\"sun\",\"sun\",\"sun\",\"fog\",\"sun\",\"drizzle\",\"fog\",\"sun\",\"sun\",\"sun\",\"sun\",\"sun\",\"sun\",\"sun\",\"sun\",\"sun\",\"sun\",\"sun\",\"sun\",\"fog\",\"sun\",\"sun\",\"fog\",\"fog\",\"sun\",\"sun\",\"sun\",\"sun\",\"fog\",\"fog\",\"fog\",\"sun\",\"sun\",\"fog\",\"fog\",\"fog\",\"fog\",\"sun\",\"sun\",\"sun\",\"sun\",\"sun\",\"sun\",\"sun\",\"sun\",\"sun\",\"sun\",\"sun\",\"sun\",\"sun\",\"sun\",\"sun\",\"sun\",\"sun\",\"sun\",\"sun\",\"fog\",\"sun\",\"sun\",\"sun\",\"sun\",\"fog\",\"fog\",\"sun\",\"fog\",\"fog\",\"sun\",\"sun\",\"sun\",\"sun\",\"sun\",\"sun\",\"fog\",\"sun\",\"sun\",\"sun\",\"sun\",\"sun\",\"sun\",\"sun\",\"sun\",\"sun\",\"sun\",\"sun\",\"sun\",\"rain\",\"sun\",\"sun\",\"sun\",\"sun\",\"fog\",\"sun\",\"sun\",\"sun\",\"sun\",\"sun\",\"fog\",\"sun\",\"sun\",\"sun\",\"sun\",\"sun\",\"fog\",\"sun\",\"sun\",\"sun\",\"sun\",\"sun\",\"rain\",\"sun\",\"sun\",\"sun\",\"sun\",\"sun\",\"sun\",\"fog\",\"sun\",\"sun\",\"sun\",\"sun\",\"sun\",\"sun\",\"sun\",\"sun\",\"sun\",\"sun\",\"sun\",\"fog\",\"sun\",\"sun\",\"sun\",\"sun\",\"sun\",\"fog\",\"fog\",\"sun\",\"fog\",\"sun\",\"fog\",\"sun\",\"sun\",\"sun\",\"sun\",\"sun\",\"fog\",\"sun\",\"fog\",\"sun\",\"sun\",\"sun\",\"fog\",\"sun\",\"fog\",\"fog\",\"sun\",\"fog\",\"sun\",\"fog\",\"fog\",\"sun\",\"fog\",\"fog\",\"fog\",\"fog\",\"sun\",\"sun\",\"fog\",\"fog\",\"rain\",\"sun\",\"fog\",\"sun\",\"fog\",\"fog\",\"sun\",\"sun\",\"fog\",\"fog\",\"sun\",\"sun\",\"sun\",\"sun\",\"sun\",\"sun\",\"sun\",\"sun\",\"sun\",\"fog\",\"sun\",\"sun\",\"sun\",\"fog\",\"sun\",\"fog\",\"sun\",\"drizzle\",\"fog\",\"sun\",\"fog\",\"sun\",\"sun\",\"sun\",\"fog\",\"fog\",\"sun\",\"fog\",\"sun\",\"sun\",\"fog\",\"fog\",\"fog\",\"sun\",\"sun\",\"sun\",\"sun\",\"fog\",\"sun\",\"sun\",\"sun\",\"sun\",\"fog\",\"fog\",\"fog\",\"sun\",\"sun\",\"sun\",\"sun\",\"sun\",\"sun\",\"sun\",\"sun\",\"sun\",\"sun\",\"sun\",\"fog\",\"sun\",\"fog\",\"sun\",\"sun\",\"fog\",\"sun\",\"fog\",\"fog\",\"fog\",\"fog\",\"sun\",\"sun\",\"sun\",\"fog\",\"sun\",\"sun\",\"sun\",\"sun\",\"sun\",\"sun\",\"fog\",\"fog\",\"sun\",\"fog\",\"sun\",\"fog\",\"fog\",\"sun\",\"fog\",\"fog\",\"sun\",\"sun\",\"sun\",\"sun\",\"sun\",\"sun\",\"sun\",\"sun\",\"sun\",\"sun\",\"fog\",\"sun\",\"sun\",\"sun\",\"sun\",\"fog\",\"fog\",\"sun\",\"fog\",\"sun\",\"sun\",\"sun\",\"sun\",\"sun\",\"sun\",\"sun\",\"fog\",\"fog\",\"fog\",\"fog\",\"fog\",\"fog\",\"fog\",\"fog\",\"fog\",\"fog\",\"fog\",\"sun\",\"fog\",\"fog\",\"fog\",\"fog\",\"fog\",\"fog\",\"sun\",\"sun\",\"sun\",\"sun\",\"fog\",\"fog\",\"fog\",\"fog\",\"fog\",\"sun\",\"fog\",\"fog\",\"fog\",\"fog\",\"fog\",\"fog\",\"fog\",\"fog\",\"fog\",\"fog\",\"sun\",\"sun\",\"sun\",\"sun\",\"sun\",\"sun\",\"sun\",\"fog\",\"fog\",\"fog\",\"fog\",\"fog\",\"sun\",\"sun\",\"sun\",\"sun\",\"sun\",\"sun\",\"fog\",\"sun\",\"sun\",\"fog\",\"sun\",\"sun\",\"sun\",\"sun\",\"sun\",\"sun\",\"sun\",\"fog\",\"fog\",\"sun\",\"fog\",\"sun\",\"fog\",\"fog\",\"fog\",\"fog\",\"sun\",\"sun\",\"fog\",\"sun\",\"sun\",\"sun\",\"sun\",\"sun\",\"fog\",\"fog\",\"fog\",\"sun\",\"sun\",\"fog\",\"sun\",\"fog\",\"sun\",\"sun\",\"sun\",\"sun\",\"sun\",\"sun\",\"sun\",\"sun\",\"sun\",\"sun\",\"sun\",\"sun\",\"fog\",\"sun\",\"fog\",\"sun\",\"sun\",\"sun\",\"sun\",\"sun\",\"sun\",\"sun\",\"sun\",\"sun\",\"sun\",\"sun\",\"sun\",\"sun\",\"sun\",\"sun\",\"sun\",\"sun\",\"sun\",\"fog\",\"sun\",\"fog\",\"fog\",\"fog\",\"sun\",\"sun\",\"sun\",\"sun\",\"sun\",\"sun\",\"sun\",\"sun\",\"sun\",\"fog\",\"fog\",\"sun\",\"sun\",\"sun\",\"sun\",\"sun\",\"sun\",\"fog\",\"sun\",\"fog\",\"sun\",\"sun\",\"fog\",\"sun\",\"sun\",\"rain\",\"sun\",\"sun\",\"sun\",\"sun\",\"sun\",\"fog\",\"sun\",\"sun\",\"fog\",\"sun\",\"sun\",\"sun\",\"sun\",\"sun\",\"sun\",\"sun\",\"sun\",\"sun\",\"sun\",\"sun\",\"sun\",\"sun\",\"sun\",\"fog\",\"fog\",\"sun\",\"sun\",\"sun\",\"rain\",\"fog\",\"fog\",\"sun\",\"fog\",\"sun\",\"sun\",\"sun\",\"sun\",\"sun\",\"sun\",\"sun\",\"sun\",\"sun\",\"sun\",\"sun\",\"sun\",\"sun\",\"sun\",\"fog\",\"fog\",\"sun\",\"fog\",\"sun\",\"fog\",\"fog\",\"sun\",\"sun\",\"sun\",\"sun\",\"sun\",\"sun\",\"sun\",\"sun\",\"sun\",\"sun\",\"sun\",\"sun\",\"fog\",\"sun\",\"fog\",\"sun\",\"fog\",\"fog\",\"fog\",\"fog\",\"fog\",\"fog\",\"fog\",\"fog\",\"sun\",\"sun\",\"sun\",\"sun\",\"sun\",\"fog\",\"fog\",\"fog\",\"fog\",\"fog\",\"fog\",\"rain\",\"sun\",\"fog\",\"fog\",\"fog\",\"sun\",\"fog\",\"fog\",\"sun\",\"fog\",\"sun\",\"fog\",\"sun\",\"sun\",\"fog\",\"fog\",\"sun\",\"fog\",\"fog\",\"fog\",\"fog\",\"fog\",\"fog\",\"fog\",\"fog\",\"fog\",\"fog\",\"sun\",\"fog\",\"fog\",\"sun\",\"sun\",\"sun\",\"sun\",\"sun\",\"sun\",\"sun\",\"sun\",\"sun\",\"sun\",\"fog\",\"fog\",\"sun\",\"fog\",\"fog\",\"fog\",\"sun\",\"fog\",\"fog\",\"fog\",\"sun\",\"sun\",\"fog\",\"sun\",\"fog\",\"fog\",\"fog\",\"sun\",\"fog\",\"fog\",\"fog\",\"fog\",\"sun\",\"fog\",\"fog\",\"sun\",\"sun\",\"fog\",\"fog\",\"sun\",\"fog\",\"sun\",\"sun\",\"fog\",\"fog\",\"fog\",\"fog\",\"fog\",\"fog\",\"fog\",\"sun\",\"sun\",\"sun\",\"fog\",\"fog\",\"fog\",\"fog\",\"fog\",\"fog\",\"fog\",\"fog\",\"fog\",\"fog\",\"fog\",\"fog\",\"fog\",\"fog\",\"fog\",\"fog\",\"rain\",\"sun\",\"fog\",\"fog\",\"fog\",\"fog\",\"fog\",\"fog\",\"fog\",\"fog\",\"fog\",\"sun\",\"fog\",\"fog\",\"fog\",\"fog\",\"fog\",\"fog\",\"fog\",\"fog\",\"fog\",\"fog\",\"fog\",\"fog\",\"fog\",\"sun\",\"fog\",\"fog\",\"sun\",\"fog\",\"sun\",\"sun\",\"fog\",\"fog\",\"sun\",\"sun\",\"sun\",\"sun\",\"fog\",\"fog\",\"fog\",\"sun\",\"sun\",\"sun\",\"sun\",\"sun\",\"sun\",\"sun\",\"fog\",\"fog\",\"fog\",\"fog\",\"fog\",\"sun\",\"sun\",\"fog\",\"fog\",\"fog\",\"sun\",\"sun\",\"sun\",\"sun\",\"fog\",\"sun\",\"fog\",\"fog\",\"fog\",\"sun\",\"fog\",\"sun\",\"sun\",\"fog\",\"fog\",\"rain\",\"sun\",\"fog\",\"sun\",\"sun\",\"sun\",\"sun\",\"sun\",\"sun\",\"fog\",\"sun\",\"sun\",\"fog\",\"sun\",\"sun\",\"sun\",\"sun\",\"sun\",\"sun\",\"sun\",\"fog\",\"sun\",\"fog\",\"fog\",\"fog\",\"fog\",\"fog\",\"fog\",\"sun\",\"sun\",\"sun\",\"sun\",\"sun\",\"sun\",\"fog\",\"fog\",\"sun\",\"sun\",\"sun\",\"sun\",\"fog\",\"fog\",\"fog\",\"fog\",\"fog\",\"sun\",\"sun\",\"sun\",\"sun\",\"fog\",\"sun\",\"sun\",\"sun\",\"sun\",\"sun\",\"sun\",\"sun\",\"sun\",\"sun\",\"sun\",\"sun\",\"fog\",\"sun\",\"sun\",\"sun\",\"sun\",\"sun\",\"sun\",\"sun\",\"sun\",\"sun\",\"sun\",\"sun\",\"sun\",\"sun\",\"drizzle\",\"sun\",\"sun\",\"sun\",\"fog\",\"sun\",\"sun\",\"sun\",\"sun\",\"sun\",\"sun\",\"sun\",\"sun\",\"sun\",\"sun\",\"fog\",\"sun\",\"sun\",\"sun\",\"sun\",\"sun\",\"drizzle\",\"sun\",\"drizzle\",\"sun\",\"sun\",\"sun\",\"sun\",\"sun\",\"sun\",\"sun\",\"sun\",\"sun\",\"sun\",\"sun\",\"sun\",\"sun\",\"sun\",\"sun\",\"fog\",\"fog\",\"fog\",\"fog\",\"sun\",\"sun\",\"sun\",\"sun\",\"sun\",\"sun\",\"sun\",\"fog\",\"sun\",\"sun\",\"sun\",\"fog\",\"sun\",\"sun\",\"sun\",\"rain\",\"sun\",\"rain\",\"sun\",\"sun\",\"sun\",\"sun\",\"drizzle\",\"fog\",\"sun\",\"drizzle\",\"drizzle\",\"sun\",\"sun\",\"sun\",\"sun\",\"fog\",\"fog\",\"fog\",\"sun\",\"fog\",\"sun\",\"sun\",\"sun\",\"sun\",\"fog\",\"fog\",\"sun\",\"sun\",\"fog\",\"sun\",\"sun\",\"fog\",\"sun\",\"sun\",\"sun\",\"fog\",\"sun\",\"sun\",\"fog\",\"fog\",\"sun\",\"sun\",\"fog\",\"fog\",\"sun\",\"sun\",\"sun\",\"sun\",\"fog\",\"fog\",\"fog\",\"sun\",\"sun\",\"sun\",\"drizzle\",\"fog\",\"fog\",\"fog\",\"fog\",\"sun\",\"fog\",\"fog\",\"fog\",\"fog\",\"sun\",\"fog\",\"fog\",\"fog\",\"fog\",\"fog\",\"fog\",\"fog\",\"fog\",\"rain\",\"fog\",\"fog\",\"fog\",\"fog\",\"fog\",\"fog\",\"fog\",\"fog\",\"fog\",\"sun\",\"fog\",\"fog\",\"fog\",\"fog\",\"fog\",\"fog\",\"sun\",\"fog\",\"fog\",\"fog\",\"fog\",\"fog\",\"fog\",\"sun\",\"sun\",\"fog\",\"sun\",\"fog\",\"fog\",\"fog\",\"sun\",\"sun\",\"sun\",\"sun\",\"fog\",\"fog\",\"fog\",\"fog\",\"fog\",\"fog\",\"fog\",\"fog\",\"fog\",\"fog\",\"fog\",\"fog\",\"sun\",\"fog\",\"sun\",\"sun\",\"fog\",\"fog\",\"fog\",\"fog\",\"fog\",\"fog\",\"fog\",\"fog\",\"fog\",\"fog\",\"fog\",\"sun\",\"fog\",\"fog\",\"fog\",\"sun\",\"sun\"],\"line\":{\"color\":\"black\",\"width\":0.5},\"pad\":15,\"thickness\":20},\"type\":\"sankey\"}],                        {\"template\":{\"data\":{\"histogram2dcontour\":[{\"type\":\"histogram2dcontour\",\"colorbar\":{\"outlinewidth\":0,\"ticks\":\"\"},\"colorscale\":[[0.0,\"#0d0887\"],[0.1111111111111111,\"#46039f\"],[0.2222222222222222,\"#7201a8\"],[0.3333333333333333,\"#9c179e\"],[0.4444444444444444,\"#bd3786\"],[0.5555555555555556,\"#d8576b\"],[0.6666666666666666,\"#ed7953\"],[0.7777777777777778,\"#fb9f3a\"],[0.8888888888888888,\"#fdca26\"],[1.0,\"#f0f921\"]]}],\"choropleth\":[{\"type\":\"choropleth\",\"colorbar\":{\"outlinewidth\":0,\"ticks\":\"\"}}],\"histogram2d\":[{\"type\":\"histogram2d\",\"colorbar\":{\"outlinewidth\":0,\"ticks\":\"\"},\"colorscale\":[[0.0,\"#0d0887\"],[0.1111111111111111,\"#46039f\"],[0.2222222222222222,\"#7201a8\"],[0.3333333333333333,\"#9c179e\"],[0.4444444444444444,\"#bd3786\"],[0.5555555555555556,\"#d8576b\"],[0.6666666666666666,\"#ed7953\"],[0.7777777777777778,\"#fb9f3a\"],[0.8888888888888888,\"#fdca26\"],[1.0,\"#f0f921\"]]}],\"heatmap\":[{\"type\":\"heatmap\",\"colorbar\":{\"outlinewidth\":0,\"ticks\":\"\"},\"colorscale\":[[0.0,\"#0d0887\"],[0.1111111111111111,\"#46039f\"],[0.2222222222222222,\"#7201a8\"],[0.3333333333333333,\"#9c179e\"],[0.4444444444444444,\"#bd3786\"],[0.5555555555555556,\"#d8576b\"],[0.6666666666666666,\"#ed7953\"],[0.7777777777777778,\"#fb9f3a\"],[0.8888888888888888,\"#fdca26\"],[1.0,\"#f0f921\"]]}],\"heatmapgl\":[{\"type\":\"heatmapgl\",\"colorbar\":{\"outlinewidth\":0,\"ticks\":\"\"},\"colorscale\":[[0.0,\"#0d0887\"],[0.1111111111111111,\"#46039f\"],[0.2222222222222222,\"#7201a8\"],[0.3333333333333333,\"#9c179e\"],[0.4444444444444444,\"#bd3786\"],[0.5555555555555556,\"#d8576b\"],[0.6666666666666666,\"#ed7953\"],[0.7777777777777778,\"#fb9f3a\"],[0.8888888888888888,\"#fdca26\"],[1.0,\"#f0f921\"]]}],\"contourcarpet\":[{\"type\":\"contourcarpet\",\"colorbar\":{\"outlinewidth\":0,\"ticks\":\"\"}}],\"contour\":[{\"type\":\"contour\",\"colorbar\":{\"outlinewidth\":0,\"ticks\":\"\"},\"colorscale\":[[0.0,\"#0d0887\"],[0.1111111111111111,\"#46039f\"],[0.2222222222222222,\"#7201a8\"],[0.3333333333333333,\"#9c179e\"],[0.4444444444444444,\"#bd3786\"],[0.5555555555555556,\"#d8576b\"],[0.6666666666666666,\"#ed7953\"],[0.7777777777777778,\"#fb9f3a\"],[0.8888888888888888,\"#fdca26\"],[1.0,\"#f0f921\"]]}],\"surface\":[{\"type\":\"surface\",\"colorbar\":{\"outlinewidth\":0,\"ticks\":\"\"},\"colorscale\":[[0.0,\"#0d0887\"],[0.1111111111111111,\"#46039f\"],[0.2222222222222222,\"#7201a8\"],[0.3333333333333333,\"#9c179e\"],[0.4444444444444444,\"#bd3786\"],[0.5555555555555556,\"#d8576b\"],[0.6666666666666666,\"#ed7953\"],[0.7777777777777778,\"#fb9f3a\"],[0.8888888888888888,\"#fdca26\"],[1.0,\"#f0f921\"]]}],\"mesh3d\":[{\"type\":\"mesh3d\",\"colorbar\":{\"outlinewidth\":0,\"ticks\":\"\"}}],\"scatter\":[{\"fillpattern\":{\"fillmode\":\"overlay\",\"size\":10,\"solidity\":0.2},\"type\":\"scatter\"}],\"parcoords\":[{\"type\":\"parcoords\",\"line\":{\"colorbar\":{\"outlinewidth\":0,\"ticks\":\"\"}}}],\"scatterpolargl\":[{\"type\":\"scatterpolargl\",\"marker\":{\"colorbar\":{\"outlinewidth\":0,\"ticks\":\"\"}}}],\"bar\":[{\"error_x\":{\"color\":\"#2a3f5f\"},\"error_y\":{\"color\":\"#2a3f5f\"},\"marker\":{\"line\":{\"color\":\"#E5ECF6\",\"width\":0.5},\"pattern\":{\"fillmode\":\"overlay\",\"size\":10,\"solidity\":0.2}},\"type\":\"bar\"}],\"scattergeo\":[{\"type\":\"scattergeo\",\"marker\":{\"colorbar\":{\"outlinewidth\":0,\"ticks\":\"\"}}}],\"scatterpolar\":[{\"type\":\"scatterpolar\",\"marker\":{\"colorbar\":{\"outlinewidth\":0,\"ticks\":\"\"}}}],\"histogram\":[{\"marker\":{\"pattern\":{\"fillmode\":\"overlay\",\"size\":10,\"solidity\":0.2}},\"type\":\"histogram\"}],\"scattergl\":[{\"type\":\"scattergl\",\"marker\":{\"colorbar\":{\"outlinewidth\":0,\"ticks\":\"\"}}}],\"scatter3d\":[{\"type\":\"scatter3d\",\"line\":{\"colorbar\":{\"outlinewidth\":0,\"ticks\":\"\"}},\"marker\":{\"colorbar\":{\"outlinewidth\":0,\"ticks\":\"\"}}}],\"scattermapbox\":[{\"type\":\"scattermapbox\",\"marker\":{\"colorbar\":{\"outlinewidth\":0,\"ticks\":\"\"}}}],\"scatterternary\":[{\"type\":\"scatterternary\",\"marker\":{\"colorbar\":{\"outlinewidth\":0,\"ticks\":\"\"}}}],\"scattercarpet\":[{\"type\":\"scattercarpet\",\"marker\":{\"colorbar\":{\"outlinewidth\":0,\"ticks\":\"\"}}}],\"carpet\":[{\"aaxis\":{\"endlinecolor\":\"#2a3f5f\",\"gridcolor\":\"white\",\"linecolor\":\"white\",\"minorgridcolor\":\"white\",\"startlinecolor\":\"#2a3f5f\"},\"baxis\":{\"endlinecolor\":\"#2a3f5f\",\"gridcolor\":\"white\",\"linecolor\":\"white\",\"minorgridcolor\":\"white\",\"startlinecolor\":\"#2a3f5f\"},\"type\":\"carpet\"}],\"table\":[{\"cells\":{\"fill\":{\"color\":\"#EBF0F8\"},\"line\":{\"color\":\"white\"}},\"header\":{\"fill\":{\"color\":\"#C8D4E3\"},\"line\":{\"color\":\"white\"}},\"type\":\"table\"}],\"barpolar\":[{\"marker\":{\"line\":{\"color\":\"#E5ECF6\",\"width\":0.5},\"pattern\":{\"fillmode\":\"overlay\",\"size\":10,\"solidity\":0.2}},\"type\":\"barpolar\"}],\"pie\":[{\"automargin\":true,\"type\":\"pie\"}]},\"layout\":{\"autotypenumbers\":\"strict\",\"colorway\":[\"#636efa\",\"#EF553B\",\"#00cc96\",\"#ab63fa\",\"#FFA15A\",\"#19d3f3\",\"#FF6692\",\"#B6E880\",\"#FF97FF\",\"#FECB52\"],\"font\":{\"color\":\"#2a3f5f\"},\"hovermode\":\"closest\",\"hoverlabel\":{\"align\":\"left\"},\"paper_bgcolor\":\"white\",\"plot_bgcolor\":\"#E5ECF6\",\"polar\":{\"bgcolor\":\"#E5ECF6\",\"angularaxis\":{\"gridcolor\":\"white\",\"linecolor\":\"white\",\"ticks\":\"\"},\"radialaxis\":{\"gridcolor\":\"white\",\"linecolor\":\"white\",\"ticks\":\"\"}},\"ternary\":{\"bgcolor\":\"#E5ECF6\",\"aaxis\":{\"gridcolor\":\"white\",\"linecolor\":\"white\",\"ticks\":\"\"},\"baxis\":{\"gridcolor\":\"white\",\"linecolor\":\"white\",\"ticks\":\"\"},\"caxis\":{\"gridcolor\":\"white\",\"linecolor\":\"white\",\"ticks\":\"\"}},\"coloraxis\":{\"colorbar\":{\"outlinewidth\":0,\"ticks\":\"\"}},\"colorscale\":{\"sequential\":[[0.0,\"#0d0887\"],[0.1111111111111111,\"#46039f\"],[0.2222222222222222,\"#7201a8\"],[0.3333333333333333,\"#9c179e\"],[0.4444444444444444,\"#bd3786\"],[0.5555555555555556,\"#d8576b\"],[0.6666666666666666,\"#ed7953\"],[0.7777777777777778,\"#fb9f3a\"],[0.8888888888888888,\"#fdca26\"],[1.0,\"#f0f921\"]],\"sequentialminus\":[[0.0,\"#0d0887\"],[0.1111111111111111,\"#46039f\"],[0.2222222222222222,\"#7201a8\"],[0.3333333333333333,\"#9c179e\"],[0.4444444444444444,\"#bd3786\"],[0.5555555555555556,\"#d8576b\"],[0.6666666666666666,\"#ed7953\"],[0.7777777777777778,\"#fb9f3a\"],[0.8888888888888888,\"#fdca26\"],[1.0,\"#f0f921\"]],\"diverging\":[[0,\"#8e0152\"],[0.1,\"#c51b7d\"],[0.2,\"#de77ae\"],[0.3,\"#f1b6da\"],[0.4,\"#fde0ef\"],[0.5,\"#f7f7f7\"],[0.6,\"#e6f5d0\"],[0.7,\"#b8e186\"],[0.8,\"#7fbc41\"],[0.9,\"#4d9221\"],[1,\"#276419\"]]},\"xaxis\":{\"gridcolor\":\"white\",\"linecolor\":\"white\",\"ticks\":\"\",\"title\":{\"standoff\":15},\"zerolinecolor\":\"white\",\"automargin\":true,\"zerolinewidth\":2},\"yaxis\":{\"gridcolor\":\"white\",\"linecolor\":\"white\",\"ticks\":\"\",\"title\":{\"standoff\":15},\"zerolinecolor\":\"white\",\"automargin\":true,\"zerolinewidth\":2},\"scene\":{\"xaxis\":{\"backgroundcolor\":\"#E5ECF6\",\"gridcolor\":\"white\",\"linecolor\":\"white\",\"showbackground\":true,\"ticks\":\"\",\"zerolinecolor\":\"white\",\"gridwidth\":2},\"yaxis\":{\"backgroundcolor\":\"#E5ECF6\",\"gridcolor\":\"white\",\"linecolor\":\"white\",\"showbackground\":true,\"ticks\":\"\",\"zerolinecolor\":\"white\",\"gridwidth\":2},\"zaxis\":{\"backgroundcolor\":\"#E5ECF6\",\"gridcolor\":\"white\",\"linecolor\":\"white\",\"showbackground\":true,\"ticks\":\"\",\"zerolinecolor\":\"white\",\"gridwidth\":2}},\"shapedefaults\":{\"line\":{\"color\":\"#2a3f5f\"}},\"annotationdefaults\":{\"arrowcolor\":\"#2a3f5f\",\"arrowhead\":0,\"arrowwidth\":1},\"geo\":{\"bgcolor\":\"white\",\"landcolor\":\"#E5ECF6\",\"subunitcolor\":\"white\",\"showland\":true,\"showlakes\":true,\"lakecolor\":\"white\"},\"title\":{\"x\":0.05},\"mapbox\":{\"style\":\"light\"}}},\"title\":{\"text\":\"Wind Group to Weather Type Sankey Diagram\"}},                        {\"responsive\": true}                    ).then(function(){\n",
       "                            \n",
       "var gd = document.getElementById('94a447cf-717b-407f-b598-77967c3c5f30');\n",
       "var x = new MutationObserver(function (mutations, observer) {{\n",
       "        var display = window.getComputedStyle(gd).display;\n",
       "        if (!display || display === 'none') {{\n",
       "            console.log([gd, 'removed!']);\n",
       "            Plotly.purge(gd);\n",
       "            observer.disconnect();\n",
       "        }}\n",
       "}});\n",
       "\n",
       "// Listen for the removal of the full notebook cells\n",
       "var notebookContainer = gd.closest('#notebook-container');\n",
       "if (notebookContainer) {{\n",
       "    x.observe(notebookContainer, {childList: true});\n",
       "}}\n",
       "\n",
       "// Listen for the clearing of the current output cell\n",
       "var outputEl = gd.closest('.output');\n",
       "if (outputEl) {{\n",
       "    x.observe(outputEl, {childList: true});\n",
       "}}\n",
       "\n",
       "                        })                };                });            </script>        </div>"
      ]
     },
     "metadata": {},
     "output_type": "display_data"
    }
   ],
   "source": [
    "import plotly.graph_objects as go\n",
    "\n",
    "labels = weather['wind_group'].tolist() + weather['weather'].tolist()\n",
    "label_to_index = {label: i for i, label in enumerate(labels)}\n",
    "\n",
    "# Group data to get counts for Sankey diagram\n",
    "sankey_counts = weather.groupby(['wind_group', 'weather']).size().reset_index(name='count')\n",
    "\n",
    "# Create the Sankey diagram\n",
    "fig = go.Figure(data=[go.Sankey(\n",
    "    node=dict(\n",
    "        pad=15,\n",
    "        thickness=20,\n",
    "        line=dict(color=\"black\", width=0.5),\n",
    "        label=labels\n",
    "    ),\n",
    "    link=dict(\n",
    "        source=sankey_counts['wind_group'].map(label_to_index),\n",
    "        target=sankey_counts['weather'].map(label_to_index),\n",
    "        value=sankey_counts['count']\n",
    "    )\n",
    ")])\n",
    "\n",
    "# Update the layout and show the diagram\n",
    "fig.update_layout(title_text=\"Wind Group to Weather Type Sankey Diagram\")\n",
    "fig.show()\n"
   ]
  },
  {
   "cell_type": "markdown",
   "id": "6982e4d2-a62f-40cf-8262-ffe9ac5bc3c1",
   "metadata": {},
   "source": [
    "##### Question 7 (5 pts)\n",
    "\n",
    "Now use the demo on this page: https://plotly.com/python/treemaps/ to make a tree map for wind_group and weather type. "
   ]
  },
  {
   "cell_type": "code",
   "execution_count": 60,
   "id": "0b76dea0-e81a-4bc8-aa75-bd5cd56535e5",
   "metadata": {},
   "outputs": [
    {
     "data": {
      "application/vnd.plotly.v1+json": {
       "config": {
        "plotlyServerURL": "https://plot.ly"
       },
       "data": [
        {
         "domain": {
          "x": [
           0,
           1
          ],
          "y": [
           0,
           1
          ]
         },
         "hovertemplate": "label=%{label}<br>parent=%{parent}<extra></extra>",
         "labels": [
          "All Weather",
          "low",
          "mid",
          "high",
          "Rain",
          "Snow",
          "Sun",
          "Fog",
          "Drizzle"
         ],
         "name": "",
         "parents": [
          "",
          "All Weather",
          "All Weather",
          "All Weather",
          "low",
          "low",
          "mid",
          "high",
          "high"
         ],
         "root": {
          "color": "lightgrey"
         },
         "type": "treemap"
        }
       ],
       "layout": {
        "legend": {
         "tracegroupgap": 0
        },
        "margin": {
         "b": 25,
         "l": 25,
         "r": 25,
         "t": 50
        },
        "template": {
         "data": {
          "bar": [
           {
            "error_x": {
             "color": "#2a3f5f"
            },
            "error_y": {
             "color": "#2a3f5f"
            },
            "marker": {
             "line": {
              "color": "#E5ECF6",
              "width": 0.5
             },
             "pattern": {
              "fillmode": "overlay",
              "size": 10,
              "solidity": 0.2
             }
            },
            "type": "bar"
           }
          ],
          "barpolar": [
           {
            "marker": {
             "line": {
              "color": "#E5ECF6",
              "width": 0.5
             },
             "pattern": {
              "fillmode": "overlay",
              "size": 10,
              "solidity": 0.2
             }
            },
            "type": "barpolar"
           }
          ],
          "carpet": [
           {
            "aaxis": {
             "endlinecolor": "#2a3f5f",
             "gridcolor": "white",
             "linecolor": "white",
             "minorgridcolor": "white",
             "startlinecolor": "#2a3f5f"
            },
            "baxis": {
             "endlinecolor": "#2a3f5f",
             "gridcolor": "white",
             "linecolor": "white",
             "minorgridcolor": "white",
             "startlinecolor": "#2a3f5f"
            },
            "type": "carpet"
           }
          ],
          "choropleth": [
           {
            "colorbar": {
             "outlinewidth": 0,
             "ticks": ""
            },
            "type": "choropleth"
           }
          ],
          "contour": [
           {
            "colorbar": {
             "outlinewidth": 0,
             "ticks": ""
            },
            "colorscale": [
             [
              0,
              "#0d0887"
             ],
             [
              0.1111111111111111,
              "#46039f"
             ],
             [
              0.2222222222222222,
              "#7201a8"
             ],
             [
              0.3333333333333333,
              "#9c179e"
             ],
             [
              0.4444444444444444,
              "#bd3786"
             ],
             [
              0.5555555555555556,
              "#d8576b"
             ],
             [
              0.6666666666666666,
              "#ed7953"
             ],
             [
              0.7777777777777778,
              "#fb9f3a"
             ],
             [
              0.8888888888888888,
              "#fdca26"
             ],
             [
              1,
              "#f0f921"
             ]
            ],
            "type": "contour"
           }
          ],
          "contourcarpet": [
           {
            "colorbar": {
             "outlinewidth": 0,
             "ticks": ""
            },
            "type": "contourcarpet"
           }
          ],
          "heatmap": [
           {
            "colorbar": {
             "outlinewidth": 0,
             "ticks": ""
            },
            "colorscale": [
             [
              0,
              "#0d0887"
             ],
             [
              0.1111111111111111,
              "#46039f"
             ],
             [
              0.2222222222222222,
              "#7201a8"
             ],
             [
              0.3333333333333333,
              "#9c179e"
             ],
             [
              0.4444444444444444,
              "#bd3786"
             ],
             [
              0.5555555555555556,
              "#d8576b"
             ],
             [
              0.6666666666666666,
              "#ed7953"
             ],
             [
              0.7777777777777778,
              "#fb9f3a"
             ],
             [
              0.8888888888888888,
              "#fdca26"
             ],
             [
              1,
              "#f0f921"
             ]
            ],
            "type": "heatmap"
           }
          ],
          "heatmapgl": [
           {
            "colorbar": {
             "outlinewidth": 0,
             "ticks": ""
            },
            "colorscale": [
             [
              0,
              "#0d0887"
             ],
             [
              0.1111111111111111,
              "#46039f"
             ],
             [
              0.2222222222222222,
              "#7201a8"
             ],
             [
              0.3333333333333333,
              "#9c179e"
             ],
             [
              0.4444444444444444,
              "#bd3786"
             ],
             [
              0.5555555555555556,
              "#d8576b"
             ],
             [
              0.6666666666666666,
              "#ed7953"
             ],
             [
              0.7777777777777778,
              "#fb9f3a"
             ],
             [
              0.8888888888888888,
              "#fdca26"
             ],
             [
              1,
              "#f0f921"
             ]
            ],
            "type": "heatmapgl"
           }
          ],
          "histogram": [
           {
            "marker": {
             "pattern": {
              "fillmode": "overlay",
              "size": 10,
              "solidity": 0.2
             }
            },
            "type": "histogram"
           }
          ],
          "histogram2d": [
           {
            "colorbar": {
             "outlinewidth": 0,
             "ticks": ""
            },
            "colorscale": [
             [
              0,
              "#0d0887"
             ],
             [
              0.1111111111111111,
              "#46039f"
             ],
             [
              0.2222222222222222,
              "#7201a8"
             ],
             [
              0.3333333333333333,
              "#9c179e"
             ],
             [
              0.4444444444444444,
              "#bd3786"
             ],
             [
              0.5555555555555556,
              "#d8576b"
             ],
             [
              0.6666666666666666,
              "#ed7953"
             ],
             [
              0.7777777777777778,
              "#fb9f3a"
             ],
             [
              0.8888888888888888,
              "#fdca26"
             ],
             [
              1,
              "#f0f921"
             ]
            ],
            "type": "histogram2d"
           }
          ],
          "histogram2dcontour": [
           {
            "colorbar": {
             "outlinewidth": 0,
             "ticks": ""
            },
            "colorscale": [
             [
              0,
              "#0d0887"
             ],
             [
              0.1111111111111111,
              "#46039f"
             ],
             [
              0.2222222222222222,
              "#7201a8"
             ],
             [
              0.3333333333333333,
              "#9c179e"
             ],
             [
              0.4444444444444444,
              "#bd3786"
             ],
             [
              0.5555555555555556,
              "#d8576b"
             ],
             [
              0.6666666666666666,
              "#ed7953"
             ],
             [
              0.7777777777777778,
              "#fb9f3a"
             ],
             [
              0.8888888888888888,
              "#fdca26"
             ],
             [
              1,
              "#f0f921"
             ]
            ],
            "type": "histogram2dcontour"
           }
          ],
          "mesh3d": [
           {
            "colorbar": {
             "outlinewidth": 0,
             "ticks": ""
            },
            "type": "mesh3d"
           }
          ],
          "parcoords": [
           {
            "line": {
             "colorbar": {
              "outlinewidth": 0,
              "ticks": ""
             }
            },
            "type": "parcoords"
           }
          ],
          "pie": [
           {
            "automargin": true,
            "type": "pie"
           }
          ],
          "scatter": [
           {
            "fillpattern": {
             "fillmode": "overlay",
             "size": 10,
             "solidity": 0.2
            },
            "type": "scatter"
           }
          ],
          "scatter3d": [
           {
            "line": {
             "colorbar": {
              "outlinewidth": 0,
              "ticks": ""
             }
            },
            "marker": {
             "colorbar": {
              "outlinewidth": 0,
              "ticks": ""
             }
            },
            "type": "scatter3d"
           }
          ],
          "scattercarpet": [
           {
            "marker": {
             "colorbar": {
              "outlinewidth": 0,
              "ticks": ""
             }
            },
            "type": "scattercarpet"
           }
          ],
          "scattergeo": [
           {
            "marker": {
             "colorbar": {
              "outlinewidth": 0,
              "ticks": ""
             }
            },
            "type": "scattergeo"
           }
          ],
          "scattergl": [
           {
            "marker": {
             "colorbar": {
              "outlinewidth": 0,
              "ticks": ""
             }
            },
            "type": "scattergl"
           }
          ],
          "scattermapbox": [
           {
            "marker": {
             "colorbar": {
              "outlinewidth": 0,
              "ticks": ""
             }
            },
            "type": "scattermapbox"
           }
          ],
          "scatterpolar": [
           {
            "marker": {
             "colorbar": {
              "outlinewidth": 0,
              "ticks": ""
             }
            },
            "type": "scatterpolar"
           }
          ],
          "scatterpolargl": [
           {
            "marker": {
             "colorbar": {
              "outlinewidth": 0,
              "ticks": ""
             }
            },
            "type": "scatterpolargl"
           }
          ],
          "scatterternary": [
           {
            "marker": {
             "colorbar": {
              "outlinewidth": 0,
              "ticks": ""
             }
            },
            "type": "scatterternary"
           }
          ],
          "surface": [
           {
            "colorbar": {
             "outlinewidth": 0,
             "ticks": ""
            },
            "colorscale": [
             [
              0,
              "#0d0887"
             ],
             [
              0.1111111111111111,
              "#46039f"
             ],
             [
              0.2222222222222222,
              "#7201a8"
             ],
             [
              0.3333333333333333,
              "#9c179e"
             ],
             [
              0.4444444444444444,
              "#bd3786"
             ],
             [
              0.5555555555555556,
              "#d8576b"
             ],
             [
              0.6666666666666666,
              "#ed7953"
             ],
             [
              0.7777777777777778,
              "#fb9f3a"
             ],
             [
              0.8888888888888888,
              "#fdca26"
             ],
             [
              1,
              "#f0f921"
             ]
            ],
            "type": "surface"
           }
          ],
          "table": [
           {
            "cells": {
             "fill": {
              "color": "#EBF0F8"
             },
             "line": {
              "color": "white"
             }
            },
            "header": {
             "fill": {
              "color": "#C8D4E3"
             },
             "line": {
              "color": "white"
             }
            },
            "type": "table"
           }
          ]
         },
         "layout": {
          "annotationdefaults": {
           "arrowcolor": "#2a3f5f",
           "arrowhead": 0,
           "arrowwidth": 1
          },
          "autotypenumbers": "strict",
          "coloraxis": {
           "colorbar": {
            "outlinewidth": 0,
            "ticks": ""
           }
          },
          "colorscale": {
           "diverging": [
            [
             0,
             "#8e0152"
            ],
            [
             0.1,
             "#c51b7d"
            ],
            [
             0.2,
             "#de77ae"
            ],
            [
             0.3,
             "#f1b6da"
            ],
            [
             0.4,
             "#fde0ef"
            ],
            [
             0.5,
             "#f7f7f7"
            ],
            [
             0.6,
             "#e6f5d0"
            ],
            [
             0.7,
             "#b8e186"
            ],
            [
             0.8,
             "#7fbc41"
            ],
            [
             0.9,
             "#4d9221"
            ],
            [
             1,
             "#276419"
            ]
           ],
           "sequential": [
            [
             0,
             "#0d0887"
            ],
            [
             0.1111111111111111,
             "#46039f"
            ],
            [
             0.2222222222222222,
             "#7201a8"
            ],
            [
             0.3333333333333333,
             "#9c179e"
            ],
            [
             0.4444444444444444,
             "#bd3786"
            ],
            [
             0.5555555555555556,
             "#d8576b"
            ],
            [
             0.6666666666666666,
             "#ed7953"
            ],
            [
             0.7777777777777778,
             "#fb9f3a"
            ],
            [
             0.8888888888888888,
             "#fdca26"
            ],
            [
             1,
             "#f0f921"
            ]
           ],
           "sequentialminus": [
            [
             0,
             "#0d0887"
            ],
            [
             0.1111111111111111,
             "#46039f"
            ],
            [
             0.2222222222222222,
             "#7201a8"
            ],
            [
             0.3333333333333333,
             "#9c179e"
            ],
            [
             0.4444444444444444,
             "#bd3786"
            ],
            [
             0.5555555555555556,
             "#d8576b"
            ],
            [
             0.6666666666666666,
             "#ed7953"
            ],
            [
             0.7777777777777778,
             "#fb9f3a"
            ],
            [
             0.8888888888888888,
             "#fdca26"
            ],
            [
             1,
             "#f0f921"
            ]
           ]
          },
          "colorway": [
           "#636efa",
           "#EF553B",
           "#00cc96",
           "#ab63fa",
           "#FFA15A",
           "#19d3f3",
           "#FF6692",
           "#B6E880",
           "#FF97FF",
           "#FECB52"
          ],
          "font": {
           "color": "#2a3f5f"
          },
          "geo": {
           "bgcolor": "white",
           "lakecolor": "white",
           "landcolor": "#E5ECF6",
           "showlakes": true,
           "showland": true,
           "subunitcolor": "white"
          },
          "hoverlabel": {
           "align": "left"
          },
          "hovermode": "closest",
          "mapbox": {
           "style": "light"
          },
          "paper_bgcolor": "white",
          "plot_bgcolor": "#E5ECF6",
          "polar": {
           "angularaxis": {
            "gridcolor": "white",
            "linecolor": "white",
            "ticks": ""
           },
           "bgcolor": "#E5ECF6",
           "radialaxis": {
            "gridcolor": "white",
            "linecolor": "white",
            "ticks": ""
           }
          },
          "scene": {
           "xaxis": {
            "backgroundcolor": "#E5ECF6",
            "gridcolor": "white",
            "gridwidth": 2,
            "linecolor": "white",
            "showbackground": true,
            "ticks": "",
            "zerolinecolor": "white"
           },
           "yaxis": {
            "backgroundcolor": "#E5ECF6",
            "gridcolor": "white",
            "gridwidth": 2,
            "linecolor": "white",
            "showbackground": true,
            "ticks": "",
            "zerolinecolor": "white"
           },
           "zaxis": {
            "backgroundcolor": "#E5ECF6",
            "gridcolor": "white",
            "gridwidth": 2,
            "linecolor": "white",
            "showbackground": true,
            "ticks": "",
            "zerolinecolor": "white"
           }
          },
          "shapedefaults": {
           "line": {
            "color": "#2a3f5f"
           }
          },
          "ternary": {
           "aaxis": {
            "gridcolor": "white",
            "linecolor": "white",
            "ticks": ""
           },
           "baxis": {
            "gridcolor": "white",
            "linecolor": "white",
            "ticks": ""
           },
           "bgcolor": "#E5ECF6",
           "caxis": {
            "gridcolor": "white",
            "linecolor": "white",
            "ticks": ""
           }
          },
          "title": {
           "x": 0.05
          },
          "xaxis": {
           "automargin": true,
           "gridcolor": "white",
           "linecolor": "white",
           "ticks": "",
           "title": {
            "standoff": 15
           },
           "zerolinecolor": "white",
           "zerolinewidth": 2
          },
          "yaxis": {
           "automargin": true,
           "gridcolor": "white",
           "linecolor": "white",
           "ticks": "",
           "title": {
            "standoff": 15
           },
           "zerolinecolor": "white",
           "zerolinewidth": 2
          }
         }
        }
       }
      },
      "text/html": [
       "<div>                            <div id=\"3427c133-c362-428a-945e-fc5e47504f83\" class=\"plotly-graph-div\" style=\"height:525px; width:100%;\"></div>            <script type=\"text/javascript\">                require([\"plotly\"], function(Plotly) {                    window.PLOTLYENV=window.PLOTLYENV || {};                                    if (document.getElementById(\"3427c133-c362-428a-945e-fc5e47504f83\")) {                    Plotly.newPlot(                        \"3427c133-c362-428a-945e-fc5e47504f83\",                        [{\"domain\":{\"x\":[0.0,1.0],\"y\":[0.0,1.0]},\"hovertemplate\":\"label=%{label}<br>parent=%{parent}<extra></extra>\",\"labels\":[\"All Weather\",\"low\",\"mid\",\"high\",\"Rain\",\"Snow\",\"Sun\",\"Fog\",\"Drizzle\"],\"name\":\"\",\"parents\":[\"\",\"All Weather\",\"All Weather\",\"All Weather\",\"low\",\"low\",\"mid\",\"high\",\"high\"],\"type\":\"treemap\",\"root\":{\"color\":\"lightgrey\"}}],                        {\"template\":{\"data\":{\"histogram2dcontour\":[{\"type\":\"histogram2dcontour\",\"colorbar\":{\"outlinewidth\":0,\"ticks\":\"\"},\"colorscale\":[[0.0,\"#0d0887\"],[0.1111111111111111,\"#46039f\"],[0.2222222222222222,\"#7201a8\"],[0.3333333333333333,\"#9c179e\"],[0.4444444444444444,\"#bd3786\"],[0.5555555555555556,\"#d8576b\"],[0.6666666666666666,\"#ed7953\"],[0.7777777777777778,\"#fb9f3a\"],[0.8888888888888888,\"#fdca26\"],[1.0,\"#f0f921\"]]}],\"choropleth\":[{\"type\":\"choropleth\",\"colorbar\":{\"outlinewidth\":0,\"ticks\":\"\"}}],\"histogram2d\":[{\"type\":\"histogram2d\",\"colorbar\":{\"outlinewidth\":0,\"ticks\":\"\"},\"colorscale\":[[0.0,\"#0d0887\"],[0.1111111111111111,\"#46039f\"],[0.2222222222222222,\"#7201a8\"],[0.3333333333333333,\"#9c179e\"],[0.4444444444444444,\"#bd3786\"],[0.5555555555555556,\"#d8576b\"],[0.6666666666666666,\"#ed7953\"],[0.7777777777777778,\"#fb9f3a\"],[0.8888888888888888,\"#fdca26\"],[1.0,\"#f0f921\"]]}],\"heatmap\":[{\"type\":\"heatmap\",\"colorbar\":{\"outlinewidth\":0,\"ticks\":\"\"},\"colorscale\":[[0.0,\"#0d0887\"],[0.1111111111111111,\"#46039f\"],[0.2222222222222222,\"#7201a8\"],[0.3333333333333333,\"#9c179e\"],[0.4444444444444444,\"#bd3786\"],[0.5555555555555556,\"#d8576b\"],[0.6666666666666666,\"#ed7953\"],[0.7777777777777778,\"#fb9f3a\"],[0.8888888888888888,\"#fdca26\"],[1.0,\"#f0f921\"]]}],\"heatmapgl\":[{\"type\":\"heatmapgl\",\"colorbar\":{\"outlinewidth\":0,\"ticks\":\"\"},\"colorscale\":[[0.0,\"#0d0887\"],[0.1111111111111111,\"#46039f\"],[0.2222222222222222,\"#7201a8\"],[0.3333333333333333,\"#9c179e\"],[0.4444444444444444,\"#bd3786\"],[0.5555555555555556,\"#d8576b\"],[0.6666666666666666,\"#ed7953\"],[0.7777777777777778,\"#fb9f3a\"],[0.8888888888888888,\"#fdca26\"],[1.0,\"#f0f921\"]]}],\"contourcarpet\":[{\"type\":\"contourcarpet\",\"colorbar\":{\"outlinewidth\":0,\"ticks\":\"\"}}],\"contour\":[{\"type\":\"contour\",\"colorbar\":{\"outlinewidth\":0,\"ticks\":\"\"},\"colorscale\":[[0.0,\"#0d0887\"],[0.1111111111111111,\"#46039f\"],[0.2222222222222222,\"#7201a8\"],[0.3333333333333333,\"#9c179e\"],[0.4444444444444444,\"#bd3786\"],[0.5555555555555556,\"#d8576b\"],[0.6666666666666666,\"#ed7953\"],[0.7777777777777778,\"#fb9f3a\"],[0.8888888888888888,\"#fdca26\"],[1.0,\"#f0f921\"]]}],\"surface\":[{\"type\":\"surface\",\"colorbar\":{\"outlinewidth\":0,\"ticks\":\"\"},\"colorscale\":[[0.0,\"#0d0887\"],[0.1111111111111111,\"#46039f\"],[0.2222222222222222,\"#7201a8\"],[0.3333333333333333,\"#9c179e\"],[0.4444444444444444,\"#bd3786\"],[0.5555555555555556,\"#d8576b\"],[0.6666666666666666,\"#ed7953\"],[0.7777777777777778,\"#fb9f3a\"],[0.8888888888888888,\"#fdca26\"],[1.0,\"#f0f921\"]]}],\"mesh3d\":[{\"type\":\"mesh3d\",\"colorbar\":{\"outlinewidth\":0,\"ticks\":\"\"}}],\"scatter\":[{\"fillpattern\":{\"fillmode\":\"overlay\",\"size\":10,\"solidity\":0.2},\"type\":\"scatter\"}],\"parcoords\":[{\"type\":\"parcoords\",\"line\":{\"colorbar\":{\"outlinewidth\":0,\"ticks\":\"\"}}}],\"scatterpolargl\":[{\"type\":\"scatterpolargl\",\"marker\":{\"colorbar\":{\"outlinewidth\":0,\"ticks\":\"\"}}}],\"bar\":[{\"error_x\":{\"color\":\"#2a3f5f\"},\"error_y\":{\"color\":\"#2a3f5f\"},\"marker\":{\"line\":{\"color\":\"#E5ECF6\",\"width\":0.5},\"pattern\":{\"fillmode\":\"overlay\",\"size\":10,\"solidity\":0.2}},\"type\":\"bar\"}],\"scattergeo\":[{\"type\":\"scattergeo\",\"marker\":{\"colorbar\":{\"outlinewidth\":0,\"ticks\":\"\"}}}],\"scatterpolar\":[{\"type\":\"scatterpolar\",\"marker\":{\"colorbar\":{\"outlinewidth\":0,\"ticks\":\"\"}}}],\"histogram\":[{\"marker\":{\"pattern\":{\"fillmode\":\"overlay\",\"size\":10,\"solidity\":0.2}},\"type\":\"histogram\"}],\"scattergl\":[{\"type\":\"scattergl\",\"marker\":{\"colorbar\":{\"outlinewidth\":0,\"ticks\":\"\"}}}],\"scatter3d\":[{\"type\":\"scatter3d\",\"line\":{\"colorbar\":{\"outlinewidth\":0,\"ticks\":\"\"}},\"marker\":{\"colorbar\":{\"outlinewidth\":0,\"ticks\":\"\"}}}],\"scattermapbox\":[{\"type\":\"scattermapbox\",\"marker\":{\"colorbar\":{\"outlinewidth\":0,\"ticks\":\"\"}}}],\"scatterternary\":[{\"type\":\"scatterternary\",\"marker\":{\"colorbar\":{\"outlinewidth\":0,\"ticks\":\"\"}}}],\"scattercarpet\":[{\"type\":\"scattercarpet\",\"marker\":{\"colorbar\":{\"outlinewidth\":0,\"ticks\":\"\"}}}],\"carpet\":[{\"aaxis\":{\"endlinecolor\":\"#2a3f5f\",\"gridcolor\":\"white\",\"linecolor\":\"white\",\"minorgridcolor\":\"white\",\"startlinecolor\":\"#2a3f5f\"},\"baxis\":{\"endlinecolor\":\"#2a3f5f\",\"gridcolor\":\"white\",\"linecolor\":\"white\",\"minorgridcolor\":\"white\",\"startlinecolor\":\"#2a3f5f\"},\"type\":\"carpet\"}],\"table\":[{\"cells\":{\"fill\":{\"color\":\"#EBF0F8\"},\"line\":{\"color\":\"white\"}},\"header\":{\"fill\":{\"color\":\"#C8D4E3\"},\"line\":{\"color\":\"white\"}},\"type\":\"table\"}],\"barpolar\":[{\"marker\":{\"line\":{\"color\":\"#E5ECF6\",\"width\":0.5},\"pattern\":{\"fillmode\":\"overlay\",\"size\":10,\"solidity\":0.2}},\"type\":\"barpolar\"}],\"pie\":[{\"automargin\":true,\"type\":\"pie\"}]},\"layout\":{\"autotypenumbers\":\"strict\",\"colorway\":[\"#636efa\",\"#EF553B\",\"#00cc96\",\"#ab63fa\",\"#FFA15A\",\"#19d3f3\",\"#FF6692\",\"#B6E880\",\"#FF97FF\",\"#FECB52\"],\"font\":{\"color\":\"#2a3f5f\"},\"hovermode\":\"closest\",\"hoverlabel\":{\"align\":\"left\"},\"paper_bgcolor\":\"white\",\"plot_bgcolor\":\"#E5ECF6\",\"polar\":{\"bgcolor\":\"#E5ECF6\",\"angularaxis\":{\"gridcolor\":\"white\",\"linecolor\":\"white\",\"ticks\":\"\"},\"radialaxis\":{\"gridcolor\":\"white\",\"linecolor\":\"white\",\"ticks\":\"\"}},\"ternary\":{\"bgcolor\":\"#E5ECF6\",\"aaxis\":{\"gridcolor\":\"white\",\"linecolor\":\"white\",\"ticks\":\"\"},\"baxis\":{\"gridcolor\":\"white\",\"linecolor\":\"white\",\"ticks\":\"\"},\"caxis\":{\"gridcolor\":\"white\",\"linecolor\":\"white\",\"ticks\":\"\"}},\"coloraxis\":{\"colorbar\":{\"outlinewidth\":0,\"ticks\":\"\"}},\"colorscale\":{\"sequential\":[[0.0,\"#0d0887\"],[0.1111111111111111,\"#46039f\"],[0.2222222222222222,\"#7201a8\"],[0.3333333333333333,\"#9c179e\"],[0.4444444444444444,\"#bd3786\"],[0.5555555555555556,\"#d8576b\"],[0.6666666666666666,\"#ed7953\"],[0.7777777777777778,\"#fb9f3a\"],[0.8888888888888888,\"#fdca26\"],[1.0,\"#f0f921\"]],\"sequentialminus\":[[0.0,\"#0d0887\"],[0.1111111111111111,\"#46039f\"],[0.2222222222222222,\"#7201a8\"],[0.3333333333333333,\"#9c179e\"],[0.4444444444444444,\"#bd3786\"],[0.5555555555555556,\"#d8576b\"],[0.6666666666666666,\"#ed7953\"],[0.7777777777777778,\"#fb9f3a\"],[0.8888888888888888,\"#fdca26\"],[1.0,\"#f0f921\"]],\"diverging\":[[0,\"#8e0152\"],[0.1,\"#c51b7d\"],[0.2,\"#de77ae\"],[0.3,\"#f1b6da\"],[0.4,\"#fde0ef\"],[0.5,\"#f7f7f7\"],[0.6,\"#e6f5d0\"],[0.7,\"#b8e186\"],[0.8,\"#7fbc41\"],[0.9,\"#4d9221\"],[1,\"#276419\"]]},\"xaxis\":{\"gridcolor\":\"white\",\"linecolor\":\"white\",\"ticks\":\"\",\"title\":{\"standoff\":15},\"zerolinecolor\":\"white\",\"automargin\":true,\"zerolinewidth\":2},\"yaxis\":{\"gridcolor\":\"white\",\"linecolor\":\"white\",\"ticks\":\"\",\"title\":{\"standoff\":15},\"zerolinecolor\":\"white\",\"automargin\":true,\"zerolinewidth\":2},\"scene\":{\"xaxis\":{\"backgroundcolor\":\"#E5ECF6\",\"gridcolor\":\"white\",\"linecolor\":\"white\",\"showbackground\":true,\"ticks\":\"\",\"zerolinecolor\":\"white\",\"gridwidth\":2},\"yaxis\":{\"backgroundcolor\":\"#E5ECF6\",\"gridcolor\":\"white\",\"linecolor\":\"white\",\"showbackground\":true,\"ticks\":\"\",\"zerolinecolor\":\"white\",\"gridwidth\":2},\"zaxis\":{\"backgroundcolor\":\"#E5ECF6\",\"gridcolor\":\"white\",\"linecolor\":\"white\",\"showbackground\":true,\"ticks\":\"\",\"zerolinecolor\":\"white\",\"gridwidth\":2}},\"shapedefaults\":{\"line\":{\"color\":\"#2a3f5f\"}},\"annotationdefaults\":{\"arrowcolor\":\"#2a3f5f\",\"arrowhead\":0,\"arrowwidth\":1},\"geo\":{\"bgcolor\":\"white\",\"landcolor\":\"#E5ECF6\",\"subunitcolor\":\"white\",\"showland\":true,\"showlakes\":true,\"lakecolor\":\"white\"},\"title\":{\"x\":0.05},\"mapbox\":{\"style\":\"light\"}}},\"legend\":{\"tracegroupgap\":0},\"margin\":{\"t\":50,\"l\":25,\"r\":25,\"b\":25}},                        {\"responsive\": true}                    ).then(function(){\n",
       "                            \n",
       "var gd = document.getElementById('3427c133-c362-428a-945e-fc5e47504f83');\n",
       "var x = new MutationObserver(function (mutations, observer) {{\n",
       "        var display = window.getComputedStyle(gd).display;\n",
       "        if (!display || display === 'none') {{\n",
       "            console.log([gd, 'removed!']);\n",
       "            Plotly.purge(gd);\n",
       "            observer.disconnect();\n",
       "        }}\n",
       "}});\n",
       "\n",
       "// Listen for the removal of the full notebook cells\n",
       "var notebookContainer = gd.closest('#notebook-container');\n",
       "if (notebookContainer) {{\n",
       "    x.observe(notebookContainer, {childList: true});\n",
       "}}\n",
       "\n",
       "// Listen for the clearing of the current output cell\n",
       "var outputEl = gd.closest('.output');\n",
       "if (outputEl) {{\n",
       "    x.observe(outputEl, {childList: true});\n",
       "}}\n",
       "\n",
       "                        })                };                });            </script>        </div>"
      ]
     },
     "metadata": {},
     "output_type": "display_data"
    }
   ],
   "source": [
    "import plotly.express as px\n",
    "fig = px.treemap(\n",
    "    names=[\"All Weather\", \"low\", \"mid\", \"high\", \"Rain\", \"Snow\", \"Sun\", \"Fog\", \"Drizzle\"],\n",
    "    parents=[\"\", \"All Weather\", \"All Weather\", \"All Weather\", \"low\", \"low\", \"mid\", \"high\", \"high\"]\n",
    ")\n",
    "fig.update_traces(root_color=\"lightgrey\")\n",
    "fig.update_layout(margin = dict(t=50, l=25, r=25, b=25))\n",
    "fig.show()"
   ]
  },
  {
   "cell_type": "markdown",
   "id": "6645ccff-85a2-4961-9a2f-00d56fdacdbd",
   "metadata": {},
   "source": [
    "##### Question 8 (5 points)\n",
    "\n",
    "Notice that both sankey diagram and tree map can be used when you want to visualize two categorical variables. However, in a few sentences, discuss when you will choose sankey plot over the tree map and vice versa."
   ]
  },
  {
   "cell_type": "markdown",
   "id": "1cccea61-086f-4c6e-ab75-2343c02d5a82",
   "metadata": {},
   "source": []
  }
 ],
 "metadata": {
  "kernelspec": {
   "display_name": "Python 3 (ipykernel)",
   "language": "python",
   "name": "python3"
  },
  "language_info": {
   "codemirror_mode": {
    "name": "ipython",
    "version": 3
   },
   "file_extension": ".py",
   "mimetype": "text/x-python",
   "name": "python",
   "nbconvert_exporter": "python",
   "pygments_lexer": "ipython3",
   "version": "3.11.4"
  }
 },
 "nbformat": 4,
 "nbformat_minor": 5
}
